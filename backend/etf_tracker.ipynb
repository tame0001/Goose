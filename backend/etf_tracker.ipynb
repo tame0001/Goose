{
 "metadata": {
  "language_info": {
   "codemirror_mode": {
    "name": "ipython",
    "version": 3
   },
   "file_extension": ".py",
   "mimetype": "text/x-python",
   "name": "python",
   "nbconvert_exporter": "python",
   "pygments_lexer": "ipython3",
   "version": "3.7.6"
  },
  "orig_nbformat": 4,
  "kernelspec": {
   "name": "python376jvsc74a57bd098571c6a3f2160297b26e71be3bfd53947af1dedd6b34906b4bbfac8ec99f64c",
   "display_name": "Python"
  },
  "interpreter": {
   "hash": "9ee059044bba769b8c16b8bddd58edbe67a4cfcce1ca4def7ca7e097de2dc1b9"
  }
 },
 "nbformat": 4,
 "nbformat_minor": 2,
 "cells": [
  {
   "cell_type": "code",
   "execution_count": 37,
   "metadata": {},
   "outputs": [],
   "source": [
    "import yaml\n",
    "import requests\n",
    "import pandas as pd\n",
    "from pathlib import Path\n",
    "from dotenv import dotenv_values\n",
    "from datetime import datetime\n",
    "from io import StringIO"
   ]
  },
  {
   "cell_type": "code",
   "execution_count": 6,
   "metadata": {},
   "outputs": [],
   "source": [
    "env_config = dotenv_values()\n",
    "dowdload = Path(env_config['download_path'])"
   ]
  },
  {
   "cell_type": "code",
   "execution_count": 53,
   "metadata": {},
   "outputs": [],
   "source": [
    "with open('config.yaml', 'r') as f:\n",
    "    config = yaml.load(f, Loader=yaml.FullLoader)"
   ]
  },
  {
   "cell_type": "code",
   "execution_count": 56,
   "metadata": {},
   "outputs": [],
   "source": [
    "link = config['ARKG']['url']"
   ]
  },
  {
   "cell_type": "code",
   "execution_count": 57,
   "metadata": {},
   "outputs": [],
   "source": [
    "headers = config['request_header']"
   ]
  },
  {
   "cell_type": "code",
   "execution_count": 58,
   "metadata": {},
   "outputs": [
    {
     "output_type": "execute_result",
     "data": {
      "text/plain": [
       "<Response [200]>"
      ]
     },
     "metadata": {},
     "execution_count": 58
    }
   ],
   "source": [
    "response = requests.get(link, headers=headers)\n",
    "response"
   ]
  },
  {
   "cell_type": "code",
   "execution_count": 59,
   "metadata": {},
   "outputs": [
    {
     "output_type": "execute_result",
     "data": {
      "text/plain": [
       "         date  fund                       company   ticker      cusip  \\\n",
       "0   6/30/2021  ARKG            TELADOC HEALTH INC     TDOC  87918A105   \n",
       "1   6/30/2021  ARKG           EXACT SCIENCES CORP     EXAS  30063P105   \n",
       "2   6/30/2021  ARKG  PACIFIC BIOSCIENCES OF CALIF     PACB  69404D108   \n",
       "3   6/30/2021  ARKG                    CAREDX INC     CDNA  14167L103   \n",
       "4   6/30/2021  ARKG     REGENERON PHARMACEUTICALS     REGN  75886F107   \n",
       "5   6/30/2021  ARKG         FATE THERAPEUTICS INC     FATE  31189P102   \n",
       "6   6/30/2021  ARKG         TWIST BIOSCIENCE CORP     TWST  90184D100   \n",
       "7   6/30/2021  ARKG     IONIS PHARMACEUTICALS INC     IONS  462222100   \n",
       "8   6/30/2021  ARKG    VERTEX PHARMACEUTICALS INC     VRTX  92532F100   \n",
       "9   6/30/2021  ARKG                  ACCOLADE INC     ACCD  00437E102   \n",
       "10  6/30/2021  ARKG     NOVARTIS AG-SPONSORED ADR      NVS  66987V109   \n",
       "11  6/30/2021  ARKG     VEEVA SYSTEMS INC-CLASS A     VEEV  922475108   \n",
       "12  6/30/2021  ARKG        CRISPR THERAPEUTICS AG     CRSP  H17182108   \n",
       "13  6/30/2021  ARKG    TAKEDA PHARMACEUTIC-SP ADR   TAK UN  874060205   \n",
       "14  6/30/2021  ARKG                   INCYTE CORP     INCY  45337C102   \n",
       "15  6/30/2021  ARKG     INTELLIA THERAPEUTICS INC     NTLA  45826J105   \n",
       "16  6/30/2021  ARKG  ROCHE HOLDINGS LTD-SPONS ADR    RHHBY  771195104   \n",
       "17  6/30/2021  ARKG      10X GENOMICS INC-CLASS A      TXG  88025U109   \n",
       "18  6/30/2021  ARKG               SCHRODINGER INC     SDGR  80810D103   \n",
       "19  6/30/2021  ARKG         BEAM THERAPEUTICS INC     BEAM  07373V105   \n",
       "20  6/30/2021  ARKG        CASTLE BIOSCIENCES INC     CSTL  14843C105   \n",
       "21  6/30/2021  ARKG   IOVANCE BIOTHERAPEUTICS INC     IOVA  462260100   \n",
       "22  6/30/2021  ARKG      ADAPTIVE BIOTECHNOLOGIES     ADPT  00650F109   \n",
       "23  6/30/2021  ARKG                  INVITAE CORP     NVTA  46185L103   \n",
       "24  6/30/2021  ARKG                   CODEXIS INC     CDXS  192005106   \n",
       "25  6/30/2021  ARKG           BERKELEY LIGHTS INC      BLI  084310101   \n",
       "26  6/30/2021  ARKG                PERSONALIS INC     PSNL  71535D106   \n",
       "27  6/30/2021  ARKG       BRISTOL-MYERS SQUIBB CO      BMY  110122108   \n",
       "28  6/30/2021  ARKG          UIPATH INC - CLASS A     PATH  90364P105   \n",
       "29  6/30/2021  ARKG   SIGNIFY HEALTH INC -CLASS A     SGFY  82671G100   \n",
       "30  6/30/2021  ARKG    PURE STORAGE INC - CLASS A     PSTG  74624M102   \n",
       "31  6/30/2021  ARKG         BUTTERFLY NETWORK INC     BFLY  124155102   \n",
       "32  6/30/2021  ARKG          1LIFE HEALTHCARE INC     ONEM  68269G107   \n",
       "33  6/30/2021  ARKG  ARCTURUS THERAPEUTICS HOLDIN  ARCT UQ  03969T109   \n",
       "34  6/30/2021  ARKG               908 DEVICES INC     MASS  65443P102   \n",
       "35  6/30/2021  ARKG   RECURSION PHARMACEUTICALS-A     RXRX  75629V104   \n",
       "36  6/30/2021  ARKG                  VERACYTE INC     VCYT  92337F107   \n",
       "37  6/30/2021  ARKG               CELLECTIS - ADR     CLLS  15117K103   \n",
       "38  6/30/2021  ARKG       REPARE THERAPEUTICS INC     RPTX  760273102   \n",
       "39  6/30/2021  ARKG   NANOSTRING TECHNOLOGIES INC     NSTG  63009R109   \n",
       "40  6/30/2021  ARKG        SERES THERAPEUTICS INC     MCRB  81750R102   \n",
       "41  6/30/2021  ARKG  CM LIFE SCIENCES INC-CLASS A     CMLF  18978W109   \n",
       "42  6/30/2021  ARKG                    ABBVIE INC     ABBV  00287Y109   \n",
       "43  6/30/2021  ARKG           EDITAS MEDICINE INC     EDIT  28106W103   \n",
       "44  6/30/2021  ARKG                      SEER INC     SEER  81578P106   \n",
       "45  6/30/2021  ARKG                  ZYMERGEN INC       ZY  98985X100   \n",
       "46  6/30/2021  ARKG     DREYFUS GOVT CASH MAN INS      NaN  X9USDDGCM   \n",
       "47  6/30/2021  ARKG       AQUABOUNTY TECHNOLOGIES      AQB  03842K200   \n",
       "48  6/30/2021  ARKG       CM LIFE SCIENCES II INC      NaN  125842203   \n",
       "49  6/30/2021  ARKG      SAREPTA THERAPEUTICS INC     SRPT  803607100   \n",
       "50  6/30/2021  ARKG                  COMPUGEN LTD     CGEN  M25722105   \n",
       "51  6/30/2021  ARKG          SURFACE ONCOLOGY INC     SURF  86877M209   \n",
       "52  6/30/2021  ARKG                    CERUS CORP     CERS  157085101   \n",
       "53  6/30/2021  ARKG        VERVE THERAPEUTICS INC     VERV  92539P101   \n",
       "54  6/30/2021  ARKG                QUANTUM-SI INC      QSI  74765K105   \n",
       "55  6/30/2021  ARKG  DYNAMICS SPECIAL PURPOSE C-A     DYNS  268010105   \n",
       "56  6/30/2021  ARKG                   EVOGENE LTD     EVGN  M4119S104   \n",
       "57  6/30/2021  ARKG   DICERNA PHARMACEUTICALS INC     DRNA  253031108   \n",
       "58  6/30/2021  ARKG    PLURISTEM THERAPEUTICS INC     PSTI  72940R300   \n",
       "59  6/30/2021  ARKG         ORGANOVO HOLDINGS INC    ONVO   68620A203   \n",
       "\n",
       "         shares  market value($)  weight(%)  \n",
       "0    4024247.00     6.895950e+08       7.05  \n",
       "1    3931070.00     5.037273e+08       5.15  \n",
       "2   13392695.00     4.824049e+08       4.93  \n",
       "3    4537284.00     4.296808e+08       4.39  \n",
       "4     708569.00     3.868645e+08       3.95  \n",
       "5    4027328.00     3.590766e+08       3.67  \n",
       "6    2611041.00     3.515506e+08       3.59  \n",
       "7    8860732.00     3.504420e+08       3.58  \n",
       "8    1764616.00     3.472411e+08       3.55  \n",
       "9    5385788.00     2.962183e+08       3.03  \n",
       "10   3162555.00     2.904174e+08       2.97  \n",
       "11    870781.00     2.787631e+08       2.85  \n",
       "12   1834610.00     2.760905e+08       2.82  \n",
       "13  15400577.00     2.591917e+08       2.65  \n",
       "14   2932113.00     2.483500e+08       2.54  \n",
       "15   1587617.00     2.406986e+08       2.46  \n",
       "16   4970976.00     2.355746e+08       2.41  \n",
       "17   1114011.00     2.242838e+08       2.29  \n",
       "18   2596955.00     2.017574e+08       2.06  \n",
       "19   1766009.00     1.956561e+08       2.00  \n",
       "20   2537504.00     1.895515e+08       1.94  \n",
       "21   6995901.00     1.842021e+08       1.88  \n",
       "22   4342182.00     1.831967e+08       1.87  \n",
       "23   4884185.00     1.664530e+08       1.70  \n",
       "24   6638052.00     1.587158e+08       1.62  \n",
       "25   3299450.00     1.517087e+08       1.55  \n",
       "26   4911030.00     1.296021e+08       1.32  \n",
       "27   1891028.00     1.253184e+08       1.28  \n",
       "28   1792596.00     1.235099e+08       1.26  \n",
       "29   3994481.00     1.197945e+08       1.22  \n",
       "30   5980930.00     1.196784e+08       1.22  \n",
       "31   7886024.00     1.124547e+08       1.15  \n",
       "32   3238142.00     1.093197e+08       1.12  \n",
       "33   2867404.00     9.909748e+07       1.01  \n",
       "34   2440547.00     9.701174e+07       0.99  \n",
       "35   2365156.00     8.824397e+07       0.90  \n",
       "36   1945442.00     8.030785e+07       0.82  \n",
       "37   4628499.00     7.336171e+07       0.75  \n",
       "38   2015964.00     6.632522e+07       0.68  \n",
       "39    950232.00     6.482483e+07       0.66  \n",
       "40   2588799.00     6.184641e+07       0.63  \n",
       "41   4558062.00     6.153384e+07       0.63  \n",
       "42    542821.00     6.095880e+07       0.62  \n",
       "43   1320331.00     6.086726e+07       0.62  \n",
       "44   1501882.00     5.007275e+07       0.51  \n",
       "45   1091920.00     4.135101e+07       0.42  \n",
       "46  41194011.29     4.119401e+07       0.42  \n",
       "47   6833097.00     3.874366e+07       0.40  \n",
       "48   2834664.00     3.903332e+07       0.40  \n",
       "49    501201.00     3.950466e+07       0.40  \n",
       "50   4168695.00     3.472523e+07       0.35  \n",
       "51   4476420.00     3.317027e+07       0.34  \n",
       "52   5941568.00     3.362927e+07       0.34  \n",
       "53    545022.00     2.956744e+07       0.30  \n",
       "54   1775660.00     2.226678e+07       0.23  \n",
       "55   2072896.00     2.068750e+07       0.21  \n",
       "56   3339463.00     1.155454e+07       0.12  \n",
       "57    326284.00     1.174296e+07       0.12  \n",
       "58    686240.00     2.758685e+06       0.03  \n",
       "59    272553.00     2.431173e+06       0.02  "
      ],
      "text/html": "<div>\n<style scoped>\n    .dataframe tbody tr th:only-of-type {\n        vertical-align: middle;\n    }\n\n    .dataframe tbody tr th {\n        vertical-align: top;\n    }\n\n    .dataframe thead th {\n        text-align: right;\n    }\n</style>\n<table border=\"1\" class=\"dataframe\">\n  <thead>\n    <tr style=\"text-align: right;\">\n      <th></th>\n      <th>date</th>\n      <th>fund</th>\n      <th>company</th>\n      <th>ticker</th>\n      <th>cusip</th>\n      <th>shares</th>\n      <th>market value($)</th>\n      <th>weight(%)</th>\n    </tr>\n  </thead>\n  <tbody>\n    <tr>\n      <th>0</th>\n      <td>6/30/2021</td>\n      <td>ARKG</td>\n      <td>TELADOC HEALTH INC</td>\n      <td>TDOC</td>\n      <td>87918A105</td>\n      <td>4024247.00</td>\n      <td>6.895950e+08</td>\n      <td>7.05</td>\n    </tr>\n    <tr>\n      <th>1</th>\n      <td>6/30/2021</td>\n      <td>ARKG</td>\n      <td>EXACT SCIENCES CORP</td>\n      <td>EXAS</td>\n      <td>30063P105</td>\n      <td>3931070.00</td>\n      <td>5.037273e+08</td>\n      <td>5.15</td>\n    </tr>\n    <tr>\n      <th>2</th>\n      <td>6/30/2021</td>\n      <td>ARKG</td>\n      <td>PACIFIC BIOSCIENCES OF CALIF</td>\n      <td>PACB</td>\n      <td>69404D108</td>\n      <td>13392695.00</td>\n      <td>4.824049e+08</td>\n      <td>4.93</td>\n    </tr>\n    <tr>\n      <th>3</th>\n      <td>6/30/2021</td>\n      <td>ARKG</td>\n      <td>CAREDX INC</td>\n      <td>CDNA</td>\n      <td>14167L103</td>\n      <td>4537284.00</td>\n      <td>4.296808e+08</td>\n      <td>4.39</td>\n    </tr>\n    <tr>\n      <th>4</th>\n      <td>6/30/2021</td>\n      <td>ARKG</td>\n      <td>REGENERON PHARMACEUTICALS</td>\n      <td>REGN</td>\n      <td>75886F107</td>\n      <td>708569.00</td>\n      <td>3.868645e+08</td>\n      <td>3.95</td>\n    </tr>\n    <tr>\n      <th>5</th>\n      <td>6/30/2021</td>\n      <td>ARKG</td>\n      <td>FATE THERAPEUTICS INC</td>\n      <td>FATE</td>\n      <td>31189P102</td>\n      <td>4027328.00</td>\n      <td>3.590766e+08</td>\n      <td>3.67</td>\n    </tr>\n    <tr>\n      <th>6</th>\n      <td>6/30/2021</td>\n      <td>ARKG</td>\n      <td>TWIST BIOSCIENCE CORP</td>\n      <td>TWST</td>\n      <td>90184D100</td>\n      <td>2611041.00</td>\n      <td>3.515506e+08</td>\n      <td>3.59</td>\n    </tr>\n    <tr>\n      <th>7</th>\n      <td>6/30/2021</td>\n      <td>ARKG</td>\n      <td>IONIS PHARMACEUTICALS INC</td>\n      <td>IONS</td>\n      <td>462222100</td>\n      <td>8860732.00</td>\n      <td>3.504420e+08</td>\n      <td>3.58</td>\n    </tr>\n    <tr>\n      <th>8</th>\n      <td>6/30/2021</td>\n      <td>ARKG</td>\n      <td>VERTEX PHARMACEUTICALS INC</td>\n      <td>VRTX</td>\n      <td>92532F100</td>\n      <td>1764616.00</td>\n      <td>3.472411e+08</td>\n      <td>3.55</td>\n    </tr>\n    <tr>\n      <th>9</th>\n      <td>6/30/2021</td>\n      <td>ARKG</td>\n      <td>ACCOLADE INC</td>\n      <td>ACCD</td>\n      <td>00437E102</td>\n      <td>5385788.00</td>\n      <td>2.962183e+08</td>\n      <td>3.03</td>\n    </tr>\n    <tr>\n      <th>10</th>\n      <td>6/30/2021</td>\n      <td>ARKG</td>\n      <td>NOVARTIS AG-SPONSORED ADR</td>\n      <td>NVS</td>\n      <td>66987V109</td>\n      <td>3162555.00</td>\n      <td>2.904174e+08</td>\n      <td>2.97</td>\n    </tr>\n    <tr>\n      <th>11</th>\n      <td>6/30/2021</td>\n      <td>ARKG</td>\n      <td>VEEVA SYSTEMS INC-CLASS A</td>\n      <td>VEEV</td>\n      <td>922475108</td>\n      <td>870781.00</td>\n      <td>2.787631e+08</td>\n      <td>2.85</td>\n    </tr>\n    <tr>\n      <th>12</th>\n      <td>6/30/2021</td>\n      <td>ARKG</td>\n      <td>CRISPR THERAPEUTICS AG</td>\n      <td>CRSP</td>\n      <td>H17182108</td>\n      <td>1834610.00</td>\n      <td>2.760905e+08</td>\n      <td>2.82</td>\n    </tr>\n    <tr>\n      <th>13</th>\n      <td>6/30/2021</td>\n      <td>ARKG</td>\n      <td>TAKEDA PHARMACEUTIC-SP ADR</td>\n      <td>TAK UN</td>\n      <td>874060205</td>\n      <td>15400577.00</td>\n      <td>2.591917e+08</td>\n      <td>2.65</td>\n    </tr>\n    <tr>\n      <th>14</th>\n      <td>6/30/2021</td>\n      <td>ARKG</td>\n      <td>INCYTE CORP</td>\n      <td>INCY</td>\n      <td>45337C102</td>\n      <td>2932113.00</td>\n      <td>2.483500e+08</td>\n      <td>2.54</td>\n    </tr>\n    <tr>\n      <th>15</th>\n      <td>6/30/2021</td>\n      <td>ARKG</td>\n      <td>INTELLIA THERAPEUTICS INC</td>\n      <td>NTLA</td>\n      <td>45826J105</td>\n      <td>1587617.00</td>\n      <td>2.406986e+08</td>\n      <td>2.46</td>\n    </tr>\n    <tr>\n      <th>16</th>\n      <td>6/30/2021</td>\n      <td>ARKG</td>\n      <td>ROCHE HOLDINGS LTD-SPONS ADR</td>\n      <td>RHHBY</td>\n      <td>771195104</td>\n      <td>4970976.00</td>\n      <td>2.355746e+08</td>\n      <td>2.41</td>\n    </tr>\n    <tr>\n      <th>17</th>\n      <td>6/30/2021</td>\n      <td>ARKG</td>\n      <td>10X GENOMICS INC-CLASS A</td>\n      <td>TXG</td>\n      <td>88025U109</td>\n      <td>1114011.00</td>\n      <td>2.242838e+08</td>\n      <td>2.29</td>\n    </tr>\n    <tr>\n      <th>18</th>\n      <td>6/30/2021</td>\n      <td>ARKG</td>\n      <td>SCHRODINGER INC</td>\n      <td>SDGR</td>\n      <td>80810D103</td>\n      <td>2596955.00</td>\n      <td>2.017574e+08</td>\n      <td>2.06</td>\n    </tr>\n    <tr>\n      <th>19</th>\n      <td>6/30/2021</td>\n      <td>ARKG</td>\n      <td>BEAM THERAPEUTICS INC</td>\n      <td>BEAM</td>\n      <td>07373V105</td>\n      <td>1766009.00</td>\n      <td>1.956561e+08</td>\n      <td>2.00</td>\n    </tr>\n    <tr>\n      <th>20</th>\n      <td>6/30/2021</td>\n      <td>ARKG</td>\n      <td>CASTLE BIOSCIENCES INC</td>\n      <td>CSTL</td>\n      <td>14843C105</td>\n      <td>2537504.00</td>\n      <td>1.895515e+08</td>\n      <td>1.94</td>\n    </tr>\n    <tr>\n      <th>21</th>\n      <td>6/30/2021</td>\n      <td>ARKG</td>\n      <td>IOVANCE BIOTHERAPEUTICS INC</td>\n      <td>IOVA</td>\n      <td>462260100</td>\n      <td>6995901.00</td>\n      <td>1.842021e+08</td>\n      <td>1.88</td>\n    </tr>\n    <tr>\n      <th>22</th>\n      <td>6/30/2021</td>\n      <td>ARKG</td>\n      <td>ADAPTIVE BIOTECHNOLOGIES</td>\n      <td>ADPT</td>\n      <td>00650F109</td>\n      <td>4342182.00</td>\n      <td>1.831967e+08</td>\n      <td>1.87</td>\n    </tr>\n    <tr>\n      <th>23</th>\n      <td>6/30/2021</td>\n      <td>ARKG</td>\n      <td>INVITAE CORP</td>\n      <td>NVTA</td>\n      <td>46185L103</td>\n      <td>4884185.00</td>\n      <td>1.664530e+08</td>\n      <td>1.70</td>\n    </tr>\n    <tr>\n      <th>24</th>\n      <td>6/30/2021</td>\n      <td>ARKG</td>\n      <td>CODEXIS INC</td>\n      <td>CDXS</td>\n      <td>192005106</td>\n      <td>6638052.00</td>\n      <td>1.587158e+08</td>\n      <td>1.62</td>\n    </tr>\n    <tr>\n      <th>25</th>\n      <td>6/30/2021</td>\n      <td>ARKG</td>\n      <td>BERKELEY LIGHTS INC</td>\n      <td>BLI</td>\n      <td>084310101</td>\n      <td>3299450.00</td>\n      <td>1.517087e+08</td>\n      <td>1.55</td>\n    </tr>\n    <tr>\n      <th>26</th>\n      <td>6/30/2021</td>\n      <td>ARKG</td>\n      <td>PERSONALIS INC</td>\n      <td>PSNL</td>\n      <td>71535D106</td>\n      <td>4911030.00</td>\n      <td>1.296021e+08</td>\n      <td>1.32</td>\n    </tr>\n    <tr>\n      <th>27</th>\n      <td>6/30/2021</td>\n      <td>ARKG</td>\n      <td>BRISTOL-MYERS SQUIBB CO</td>\n      <td>BMY</td>\n      <td>110122108</td>\n      <td>1891028.00</td>\n      <td>1.253184e+08</td>\n      <td>1.28</td>\n    </tr>\n    <tr>\n      <th>28</th>\n      <td>6/30/2021</td>\n      <td>ARKG</td>\n      <td>UIPATH INC - CLASS A</td>\n      <td>PATH</td>\n      <td>90364P105</td>\n      <td>1792596.00</td>\n      <td>1.235099e+08</td>\n      <td>1.26</td>\n    </tr>\n    <tr>\n      <th>29</th>\n      <td>6/30/2021</td>\n      <td>ARKG</td>\n      <td>SIGNIFY HEALTH INC -CLASS A</td>\n      <td>SGFY</td>\n      <td>82671G100</td>\n      <td>3994481.00</td>\n      <td>1.197945e+08</td>\n      <td>1.22</td>\n    </tr>\n    <tr>\n      <th>30</th>\n      <td>6/30/2021</td>\n      <td>ARKG</td>\n      <td>PURE STORAGE INC - CLASS A</td>\n      <td>PSTG</td>\n      <td>74624M102</td>\n      <td>5980930.00</td>\n      <td>1.196784e+08</td>\n      <td>1.22</td>\n    </tr>\n    <tr>\n      <th>31</th>\n      <td>6/30/2021</td>\n      <td>ARKG</td>\n      <td>BUTTERFLY NETWORK INC</td>\n      <td>BFLY</td>\n      <td>124155102</td>\n      <td>7886024.00</td>\n      <td>1.124547e+08</td>\n      <td>1.15</td>\n    </tr>\n    <tr>\n      <th>32</th>\n      <td>6/30/2021</td>\n      <td>ARKG</td>\n      <td>1LIFE HEALTHCARE INC</td>\n      <td>ONEM</td>\n      <td>68269G107</td>\n      <td>3238142.00</td>\n      <td>1.093197e+08</td>\n      <td>1.12</td>\n    </tr>\n    <tr>\n      <th>33</th>\n      <td>6/30/2021</td>\n      <td>ARKG</td>\n      <td>ARCTURUS THERAPEUTICS HOLDIN</td>\n      <td>ARCT UQ</td>\n      <td>03969T109</td>\n      <td>2867404.00</td>\n      <td>9.909748e+07</td>\n      <td>1.01</td>\n    </tr>\n    <tr>\n      <th>34</th>\n      <td>6/30/2021</td>\n      <td>ARKG</td>\n      <td>908 DEVICES INC</td>\n      <td>MASS</td>\n      <td>65443P102</td>\n      <td>2440547.00</td>\n      <td>9.701174e+07</td>\n      <td>0.99</td>\n    </tr>\n    <tr>\n      <th>35</th>\n      <td>6/30/2021</td>\n      <td>ARKG</td>\n      <td>RECURSION PHARMACEUTICALS-A</td>\n      <td>RXRX</td>\n      <td>75629V104</td>\n      <td>2365156.00</td>\n      <td>8.824397e+07</td>\n      <td>0.90</td>\n    </tr>\n    <tr>\n      <th>36</th>\n      <td>6/30/2021</td>\n      <td>ARKG</td>\n      <td>VERACYTE INC</td>\n      <td>VCYT</td>\n      <td>92337F107</td>\n      <td>1945442.00</td>\n      <td>8.030785e+07</td>\n      <td>0.82</td>\n    </tr>\n    <tr>\n      <th>37</th>\n      <td>6/30/2021</td>\n      <td>ARKG</td>\n      <td>CELLECTIS - ADR</td>\n      <td>CLLS</td>\n      <td>15117K103</td>\n      <td>4628499.00</td>\n      <td>7.336171e+07</td>\n      <td>0.75</td>\n    </tr>\n    <tr>\n      <th>38</th>\n      <td>6/30/2021</td>\n      <td>ARKG</td>\n      <td>REPARE THERAPEUTICS INC</td>\n      <td>RPTX</td>\n      <td>760273102</td>\n      <td>2015964.00</td>\n      <td>6.632522e+07</td>\n      <td>0.68</td>\n    </tr>\n    <tr>\n      <th>39</th>\n      <td>6/30/2021</td>\n      <td>ARKG</td>\n      <td>NANOSTRING TECHNOLOGIES INC</td>\n      <td>NSTG</td>\n      <td>63009R109</td>\n      <td>950232.00</td>\n      <td>6.482483e+07</td>\n      <td>0.66</td>\n    </tr>\n    <tr>\n      <th>40</th>\n      <td>6/30/2021</td>\n      <td>ARKG</td>\n      <td>SERES THERAPEUTICS INC</td>\n      <td>MCRB</td>\n      <td>81750R102</td>\n      <td>2588799.00</td>\n      <td>6.184641e+07</td>\n      <td>0.63</td>\n    </tr>\n    <tr>\n      <th>41</th>\n      <td>6/30/2021</td>\n      <td>ARKG</td>\n      <td>CM LIFE SCIENCES INC-CLASS A</td>\n      <td>CMLF</td>\n      <td>18978W109</td>\n      <td>4558062.00</td>\n      <td>6.153384e+07</td>\n      <td>0.63</td>\n    </tr>\n    <tr>\n      <th>42</th>\n      <td>6/30/2021</td>\n      <td>ARKG</td>\n      <td>ABBVIE INC</td>\n      <td>ABBV</td>\n      <td>00287Y109</td>\n      <td>542821.00</td>\n      <td>6.095880e+07</td>\n      <td>0.62</td>\n    </tr>\n    <tr>\n      <th>43</th>\n      <td>6/30/2021</td>\n      <td>ARKG</td>\n      <td>EDITAS MEDICINE INC</td>\n      <td>EDIT</td>\n      <td>28106W103</td>\n      <td>1320331.00</td>\n      <td>6.086726e+07</td>\n      <td>0.62</td>\n    </tr>\n    <tr>\n      <th>44</th>\n      <td>6/30/2021</td>\n      <td>ARKG</td>\n      <td>SEER INC</td>\n      <td>SEER</td>\n      <td>81578P106</td>\n      <td>1501882.00</td>\n      <td>5.007275e+07</td>\n      <td>0.51</td>\n    </tr>\n    <tr>\n      <th>45</th>\n      <td>6/30/2021</td>\n      <td>ARKG</td>\n      <td>ZYMERGEN INC</td>\n      <td>ZY</td>\n      <td>98985X100</td>\n      <td>1091920.00</td>\n      <td>4.135101e+07</td>\n      <td>0.42</td>\n    </tr>\n    <tr>\n      <th>46</th>\n      <td>6/30/2021</td>\n      <td>ARKG</td>\n      <td>DREYFUS GOVT CASH MAN INS</td>\n      <td>NaN</td>\n      <td>X9USDDGCM</td>\n      <td>41194011.29</td>\n      <td>4.119401e+07</td>\n      <td>0.42</td>\n    </tr>\n    <tr>\n      <th>47</th>\n      <td>6/30/2021</td>\n      <td>ARKG</td>\n      <td>AQUABOUNTY TECHNOLOGIES</td>\n      <td>AQB</td>\n      <td>03842K200</td>\n      <td>6833097.00</td>\n      <td>3.874366e+07</td>\n      <td>0.40</td>\n    </tr>\n    <tr>\n      <th>48</th>\n      <td>6/30/2021</td>\n      <td>ARKG</td>\n      <td>CM LIFE SCIENCES II INC</td>\n      <td>NaN</td>\n      <td>125842203</td>\n      <td>2834664.00</td>\n      <td>3.903332e+07</td>\n      <td>0.40</td>\n    </tr>\n    <tr>\n      <th>49</th>\n      <td>6/30/2021</td>\n      <td>ARKG</td>\n      <td>SAREPTA THERAPEUTICS INC</td>\n      <td>SRPT</td>\n      <td>803607100</td>\n      <td>501201.00</td>\n      <td>3.950466e+07</td>\n      <td>0.40</td>\n    </tr>\n    <tr>\n      <th>50</th>\n      <td>6/30/2021</td>\n      <td>ARKG</td>\n      <td>COMPUGEN LTD</td>\n      <td>CGEN</td>\n      <td>M25722105</td>\n      <td>4168695.00</td>\n      <td>3.472523e+07</td>\n      <td>0.35</td>\n    </tr>\n    <tr>\n      <th>51</th>\n      <td>6/30/2021</td>\n      <td>ARKG</td>\n      <td>SURFACE ONCOLOGY INC</td>\n      <td>SURF</td>\n      <td>86877M209</td>\n      <td>4476420.00</td>\n      <td>3.317027e+07</td>\n      <td>0.34</td>\n    </tr>\n    <tr>\n      <th>52</th>\n      <td>6/30/2021</td>\n      <td>ARKG</td>\n      <td>CERUS CORP</td>\n      <td>CERS</td>\n      <td>157085101</td>\n      <td>5941568.00</td>\n      <td>3.362927e+07</td>\n      <td>0.34</td>\n    </tr>\n    <tr>\n      <th>53</th>\n      <td>6/30/2021</td>\n      <td>ARKG</td>\n      <td>VERVE THERAPEUTICS INC</td>\n      <td>VERV</td>\n      <td>92539P101</td>\n      <td>545022.00</td>\n      <td>2.956744e+07</td>\n      <td>0.30</td>\n    </tr>\n    <tr>\n      <th>54</th>\n      <td>6/30/2021</td>\n      <td>ARKG</td>\n      <td>QUANTUM-SI INC</td>\n      <td>QSI</td>\n      <td>74765K105</td>\n      <td>1775660.00</td>\n      <td>2.226678e+07</td>\n      <td>0.23</td>\n    </tr>\n    <tr>\n      <th>55</th>\n      <td>6/30/2021</td>\n      <td>ARKG</td>\n      <td>DYNAMICS SPECIAL PURPOSE C-A</td>\n      <td>DYNS</td>\n      <td>268010105</td>\n      <td>2072896.00</td>\n      <td>2.068750e+07</td>\n      <td>0.21</td>\n    </tr>\n    <tr>\n      <th>56</th>\n      <td>6/30/2021</td>\n      <td>ARKG</td>\n      <td>EVOGENE LTD</td>\n      <td>EVGN</td>\n      <td>M4119S104</td>\n      <td>3339463.00</td>\n      <td>1.155454e+07</td>\n      <td>0.12</td>\n    </tr>\n    <tr>\n      <th>57</th>\n      <td>6/30/2021</td>\n      <td>ARKG</td>\n      <td>DICERNA PHARMACEUTICALS INC</td>\n      <td>DRNA</td>\n      <td>253031108</td>\n      <td>326284.00</td>\n      <td>1.174296e+07</td>\n      <td>0.12</td>\n    </tr>\n    <tr>\n      <th>58</th>\n      <td>6/30/2021</td>\n      <td>ARKG</td>\n      <td>PLURISTEM THERAPEUTICS INC</td>\n      <td>PSTI</td>\n      <td>72940R300</td>\n      <td>686240.00</td>\n      <td>2.758685e+06</td>\n      <td>0.03</td>\n    </tr>\n    <tr>\n      <th>59</th>\n      <td>6/30/2021</td>\n      <td>ARKG</td>\n      <td>ORGANOVO HOLDINGS INC</td>\n      <td>ONVO</td>\n      <td>68620A203</td>\n      <td>272553.00</td>\n      <td>2.431173e+06</td>\n      <td>0.02</td>\n    </tr>\n  </tbody>\n</table>\n</div>"
     },
     "metadata": {},
     "execution_count": 59
    }
   ],
   "source": [
    "df = pd.read_csv(StringIO(response.content.decode('utf-8')))\n",
    "df = df.drop(df.tail(3).index)\n",
    "df"
   ]
  },
  {
   "cell_type": "code",
   "execution_count": null,
   "metadata": {},
   "outputs": [],
   "source": []
  }
 ]
}