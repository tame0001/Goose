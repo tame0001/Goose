{
 "metadata": {
  "language_info": {
   "codemirror_mode": {
    "name": "ipython",
    "version": 3
   },
   "file_extension": ".py",
   "mimetype": "text/x-python",
   "name": "python",
   "nbconvert_exporter": "python",
   "pygments_lexer": "ipython3",
   "version": "3.7.7"
  },
  "orig_nbformat": 4,
  "kernelspec": {
   "name": "python3",
   "display_name": "Python 3.7.7 64-bit"
  },
  "interpreter": {
   "hash": "9ee059044bba769b8c16b8bddd58edbe67a4cfcce1ca4def7ca7e097de2dc1b9"
  }
 },
 "nbformat": 4,
 "nbformat_minor": 2,
 "cells": [
  {
   "cell_type": "code",
   "execution_count": 1,
   "metadata": {},
   "outputs": [],
   "source": [
    "import random\n",
    "import yfinance as yf"
   ]
  },
  {
   "cell_type": "code",
   "execution_count": 2,
   "metadata": {},
   "outputs": [],
   "source": [
    "thai_stocks = ['AOT.BK', 'CPF.BK', 'KTC.BK', 'SCB.BK' 'UTP.BK']\n",
    "us_stock = ['MANU', 'TSLA']"
   ]
  },
  {
   "cell_type": "code",
   "execution_count": 3,
   "metadata": {},
   "outputs": [
    {
     "output_type": "execute_result",
     "data": {
      "text/plain": [
       "             Open   High    Low  Close     Volume  Dividends  Stock Splits\n",
       "Date                                                                      \n",
       "2021-05-25  78.25  84.75  77.25  83.00   29504400          0             0\n",
       "2021-05-27  76.50  77.25  73.50  73.50  159166300          0             0\n",
       "2021-05-28  74.25  75.00  71.25  73.25   72203300          0             0\n",
       "2021-05-31  72.75  74.00  72.50  73.00   16591300          0             0\n",
       "2021-06-01  73.00  74.75  72.75  74.50   25505100          0             0\n",
       "2021-06-02  75.00  75.00  73.50  74.00   14988900          0             0\n",
       "2021-06-04  73.75  74.50  73.50  73.50    9761500          0             0\n",
       "2021-06-07  73.75  74.25  72.25  72.25   13875000          0             0\n",
       "2021-06-08  72.25  72.50  71.50  72.25   13314200          0             0\n",
       "2021-06-09  72.50  73.00  71.75  72.50   11217100          0             0\n",
       "2021-06-10  72.50  73.00  71.00  71.50   12136500          0             0\n",
       "2021-06-11  71.50  72.25  71.50  71.50    4669300          0             0\n",
       "2021-06-14  72.25  72.50  71.50  72.25    5755300          0             0\n",
       "2021-06-15  72.00  72.75  70.00  70.00    9107400          0             0\n",
       "2021-06-16  69.25  69.25  65.25  66.50   58437800          0             0\n",
       "2021-06-17  66.75  67.50  66.25  66.50   18185300          0             0\n",
       "2021-06-18  66.75  67.50  65.50  66.50   23149200          0             0\n",
       "2021-06-21  65.50  67.25  65.50  67.00   13999800          0             0\n",
       "2021-06-22  68.00  69.00  66.50  66.50   17511500          0             0\n",
       "2021-06-23  67.00  68.00  66.25  66.50    7608300          0             0\n",
       "2021-06-24  67.00  67.25  65.75  66.50    7370900          0             0\n",
       "2021-06-25  67.00  67.50  66.50  67.00    5474000          0             0"
      ],
      "text/html": "<div>\n<style scoped>\n    .dataframe tbody tr th:only-of-type {\n        vertical-align: middle;\n    }\n\n    .dataframe tbody tr th {\n        vertical-align: top;\n    }\n\n    .dataframe thead th {\n        text-align: right;\n    }\n</style>\n<table border=\"1\" class=\"dataframe\">\n  <thead>\n    <tr style=\"text-align: right;\">\n      <th></th>\n      <th>Open</th>\n      <th>High</th>\n      <th>Low</th>\n      <th>Close</th>\n      <th>Volume</th>\n      <th>Dividends</th>\n      <th>Stock Splits</th>\n    </tr>\n    <tr>\n      <th>Date</th>\n      <th></th>\n      <th></th>\n      <th></th>\n      <th></th>\n      <th></th>\n      <th></th>\n      <th></th>\n    </tr>\n  </thead>\n  <tbody>\n    <tr>\n      <th>2021-05-25</th>\n      <td>78.25</td>\n      <td>84.75</td>\n      <td>77.25</td>\n      <td>83.00</td>\n      <td>29504400</td>\n      <td>0</td>\n      <td>0</td>\n    </tr>\n    <tr>\n      <th>2021-05-27</th>\n      <td>76.50</td>\n      <td>77.25</td>\n      <td>73.50</td>\n      <td>73.50</td>\n      <td>159166300</td>\n      <td>0</td>\n      <td>0</td>\n    </tr>\n    <tr>\n      <th>2021-05-28</th>\n      <td>74.25</td>\n      <td>75.00</td>\n      <td>71.25</td>\n      <td>73.25</td>\n      <td>72203300</td>\n      <td>0</td>\n      <td>0</td>\n    </tr>\n    <tr>\n      <th>2021-05-31</th>\n      <td>72.75</td>\n      <td>74.00</td>\n      <td>72.50</td>\n      <td>73.00</td>\n      <td>16591300</td>\n      <td>0</td>\n      <td>0</td>\n    </tr>\n    <tr>\n      <th>2021-06-01</th>\n      <td>73.00</td>\n      <td>74.75</td>\n      <td>72.75</td>\n      <td>74.50</td>\n      <td>25505100</td>\n      <td>0</td>\n      <td>0</td>\n    </tr>\n    <tr>\n      <th>2021-06-02</th>\n      <td>75.00</td>\n      <td>75.00</td>\n      <td>73.50</td>\n      <td>74.00</td>\n      <td>14988900</td>\n      <td>0</td>\n      <td>0</td>\n    </tr>\n    <tr>\n      <th>2021-06-04</th>\n      <td>73.75</td>\n      <td>74.50</td>\n      <td>73.50</td>\n      <td>73.50</td>\n      <td>9761500</td>\n      <td>0</td>\n      <td>0</td>\n    </tr>\n    <tr>\n      <th>2021-06-07</th>\n      <td>73.75</td>\n      <td>74.25</td>\n      <td>72.25</td>\n      <td>72.25</td>\n      <td>13875000</td>\n      <td>0</td>\n      <td>0</td>\n    </tr>\n    <tr>\n      <th>2021-06-08</th>\n      <td>72.25</td>\n      <td>72.50</td>\n      <td>71.50</td>\n      <td>72.25</td>\n      <td>13314200</td>\n      <td>0</td>\n      <td>0</td>\n    </tr>\n    <tr>\n      <th>2021-06-09</th>\n      <td>72.50</td>\n      <td>73.00</td>\n      <td>71.75</td>\n      <td>72.50</td>\n      <td>11217100</td>\n      <td>0</td>\n      <td>0</td>\n    </tr>\n    <tr>\n      <th>2021-06-10</th>\n      <td>72.50</td>\n      <td>73.00</td>\n      <td>71.00</td>\n      <td>71.50</td>\n      <td>12136500</td>\n      <td>0</td>\n      <td>0</td>\n    </tr>\n    <tr>\n      <th>2021-06-11</th>\n      <td>71.50</td>\n      <td>72.25</td>\n      <td>71.50</td>\n      <td>71.50</td>\n      <td>4669300</td>\n      <td>0</td>\n      <td>0</td>\n    </tr>\n    <tr>\n      <th>2021-06-14</th>\n      <td>72.25</td>\n      <td>72.50</td>\n      <td>71.50</td>\n      <td>72.25</td>\n      <td>5755300</td>\n      <td>0</td>\n      <td>0</td>\n    </tr>\n    <tr>\n      <th>2021-06-15</th>\n      <td>72.00</td>\n      <td>72.75</td>\n      <td>70.00</td>\n      <td>70.00</td>\n      <td>9107400</td>\n      <td>0</td>\n      <td>0</td>\n    </tr>\n    <tr>\n      <th>2021-06-16</th>\n      <td>69.25</td>\n      <td>69.25</td>\n      <td>65.25</td>\n      <td>66.50</td>\n      <td>58437800</td>\n      <td>0</td>\n      <td>0</td>\n    </tr>\n    <tr>\n      <th>2021-06-17</th>\n      <td>66.75</td>\n      <td>67.50</td>\n      <td>66.25</td>\n      <td>66.50</td>\n      <td>18185300</td>\n      <td>0</td>\n      <td>0</td>\n    </tr>\n    <tr>\n      <th>2021-06-18</th>\n      <td>66.75</td>\n      <td>67.50</td>\n      <td>65.50</td>\n      <td>66.50</td>\n      <td>23149200</td>\n      <td>0</td>\n      <td>0</td>\n    </tr>\n    <tr>\n      <th>2021-06-21</th>\n      <td>65.50</td>\n      <td>67.25</td>\n      <td>65.50</td>\n      <td>67.00</td>\n      <td>13999800</td>\n      <td>0</td>\n      <td>0</td>\n    </tr>\n    <tr>\n      <th>2021-06-22</th>\n      <td>68.00</td>\n      <td>69.00</td>\n      <td>66.50</td>\n      <td>66.50</td>\n      <td>17511500</td>\n      <td>0</td>\n      <td>0</td>\n    </tr>\n    <tr>\n      <th>2021-06-23</th>\n      <td>67.00</td>\n      <td>68.00</td>\n      <td>66.25</td>\n      <td>66.50</td>\n      <td>7608300</td>\n      <td>0</td>\n      <td>0</td>\n    </tr>\n    <tr>\n      <th>2021-06-24</th>\n      <td>67.00</td>\n      <td>67.25</td>\n      <td>65.75</td>\n      <td>66.50</td>\n      <td>7370900</td>\n      <td>0</td>\n      <td>0</td>\n    </tr>\n    <tr>\n      <th>2021-06-25</th>\n      <td>67.00</td>\n      <td>67.50</td>\n      <td>66.50</td>\n      <td>67.00</td>\n      <td>5474000</td>\n      <td>0</td>\n      <td>0</td>\n    </tr>\n  </tbody>\n</table>\n</div>"
     },
     "metadata": {},
     "execution_count": 3
    }
   ],
   "source": [
    "stock = random.choice(thai_stocks)\n",
    "test = yf.Ticker(stock)\n",
    "hist = test.history(period='1mo', interval='1d')\n",
    "hist"
   ]
  },
  {
   "cell_type": "code",
   "execution_count": null,
   "metadata": {},
   "outputs": [],
   "source": []
  }
 ]
}