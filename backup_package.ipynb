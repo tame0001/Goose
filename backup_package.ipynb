{
 "nbformat": 4,
 "nbformat_minor": 2,
 "metadata": {
  "language_info": {
   "name": "python",
   "codemirror_mode": {
    "name": "ipython",
    "version": 3
   }
  },
  "orig_nbformat": 2,
  "file_extension": ".py",
  "mimetype": "text/x-python",
  "name": "python",
  "npconvert_exporter": "python",
  "pygments_lexer": "ipython3",
  "version": 3
 },
 "cells": [
  {
   "cell_type": "code",
   "execution_count": null,
   "metadata": {},
   "outputs": [],
   "source": [
    "from settrade.openapi import Investor"
   ]
  },
  {
   "cell_type": "code",
   "execution_count": null,
   "metadata": {},
   "outputs": [],
   "source": [
    "investor = Investor(\n",
    "    app_id=\"ck3pUNvInIG3Q0HF\",                                 \n",
    "    app_secret=\"APY0jKCaHbPVsjOPEUqPI+4kJujbQ2U3prh4BChTLC27\", \n",
    "    broker_id=\"041\",                                           \n",
    "    app_code=\"ALGO\",\n",
    "    is_auto_queue = False)"
   ]
  },
  {
   "cell_type": "code",
   "execution_count": null,
   "metadata": {},
   "outputs": [],
   "source": [
    "from googlefinance import getQuotes\n",
    "json.dumps(getQuotes('AAPL'), indent=2"
   ]
  }
 ]
}