{
  "nbformat": 4,
  "nbformat_minor": 0,
  "metadata": {
    "colab": {
      "name": "stock_tracker.ipynb",
      "provenance": [],
      "collapsed_sections": []
    },
    "kernelspec": {
      "name": "python37664bitece595conda838367ab88354209b4fac951afea76c5",
      "display_name": "Python 3.7.6 64-bit ('ece595': conda)"
    }
  },
  "cells": [
    {
      "cell_type": "code",
      "execution_count": 1,
      "metadata": {},
      "outputs": [],
      "source": [
        "import numpy as np\n",
        "import pandas as pd\n",
        "import matplotlib.pyplot as plt\n",
        "from pathlib import Path\n",
        "import re\n",
        "from datetime import datetime\n",
        "import json\n",
        "import random\n",
        "import yfinance as yf"
      ]
    },
    {
      "cell_type": "code",
      "execution_count": 3,
      "metadata": {},
      "outputs": [],
      "source": [
        "thai_stocks = ['AOT.BK', 'CPF.BK', 'KTC.BK', 'SCB.BK' 'UTP.BK']\n",
        "us_stock = ['MANU', 'TSLA']"
      ]
    },
    {
      "cell_type": "code",
      "execution_count": 4,
      "metadata": {},
      "outputs": [
        {
          "data": {
            "text/html": "<div>\n<style scoped>\n    .dataframe tbody tr th:only-of-type {\n        vertical-align: middle;\n    }\n\n    .dataframe tbody tr th {\n        vertical-align: top;\n    }\n\n    .dataframe thead th {\n        text-align: right;\n    }\n</style>\n<table border=\"1\" class=\"dataframe\">\n  <thead>\n    <tr style=\"text-align: right;\">\n      <th></th>\n      <th>Open</th>\n      <th>High</th>\n      <th>Low</th>\n      <th>Close</th>\n      <th>Volume</th>\n      <th>Dividends</th>\n      <th>Stock Splits</th>\n    </tr>\n    <tr>\n      <th>Date</th>\n      <th></th>\n      <th></th>\n      <th></th>\n      <th></th>\n      <th></th>\n      <th></th>\n      <th></th>\n    </tr>\n  </thead>\n  <tbody>\n    <tr>\n      <th>2021-04-16</th>\n      <td>66.00</td>\n      <td>66.00</td>\n      <td>65.00</td>\n      <td>65.50</td>\n      <td>24094600</td>\n      <td>0</td>\n      <td>0</td>\n    </tr>\n    <tr>\n      <th>2021-04-19</th>\n      <td>65.75</td>\n      <td>66.75</td>\n      <td>65.50</td>\n      <td>66.50</td>\n      <td>10780600</td>\n      <td>0</td>\n      <td>0</td>\n    </tr>\n    <tr>\n      <th>2021-04-20</th>\n      <td>66.00</td>\n      <td>66.50</td>\n      <td>65.25</td>\n      <td>65.75</td>\n      <td>13456000</td>\n      <td>0</td>\n      <td>0</td>\n    </tr>\n    <tr>\n      <th>2021-04-21</th>\n      <td>65.25</td>\n      <td>65.50</td>\n      <td>64.75</td>\n      <td>64.75</td>\n      <td>14733900</td>\n      <td>0</td>\n      <td>0</td>\n    </tr>\n    <tr>\n      <th>2021-04-22</th>\n      <td>64.75</td>\n      <td>65.00</td>\n      <td>63.50</td>\n      <td>63.75</td>\n      <td>26556100</td>\n      <td>0</td>\n      <td>0</td>\n    </tr>\n    <tr>\n      <th>2021-04-23</th>\n      <td>63.50</td>\n      <td>63.75</td>\n      <td>62.75</td>\n      <td>63.00</td>\n      <td>18257200</td>\n      <td>0</td>\n      <td>0</td>\n    </tr>\n    <tr>\n      <th>2021-04-26</th>\n      <td>63.00</td>\n      <td>63.50</td>\n      <td>62.25</td>\n      <td>63.50</td>\n      <td>16157700</td>\n      <td>0</td>\n      <td>0</td>\n    </tr>\n    <tr>\n      <th>2021-04-27</th>\n      <td>62.50</td>\n      <td>62.50</td>\n      <td>60.50</td>\n      <td>60.75</td>\n      <td>75612800</td>\n      <td>0</td>\n      <td>0</td>\n    </tr>\n    <tr>\n      <th>2021-04-28</th>\n      <td>61.00</td>\n      <td>62.75</td>\n      <td>61.00</td>\n      <td>62.75</td>\n      <td>32625500</td>\n      <td>0</td>\n      <td>0</td>\n    </tr>\n    <tr>\n      <th>2021-04-29</th>\n      <td>63.00</td>\n      <td>63.50</td>\n      <td>62.50</td>\n      <td>63.00</td>\n      <td>20294100</td>\n      <td>0</td>\n      <td>0</td>\n    </tr>\n    <tr>\n      <th>2021-04-30</th>\n      <td>62.50</td>\n      <td>62.75</td>\n      <td>61.75</td>\n      <td>62.00</td>\n      <td>13678600</td>\n      <td>0</td>\n      <td>0</td>\n    </tr>\n    <tr>\n      <th>2021-05-05</th>\n      <td>61.00</td>\n      <td>61.25</td>\n      <td>59.75</td>\n      <td>60.00</td>\n      <td>59790100</td>\n      <td>0</td>\n      <td>0</td>\n    </tr>\n    <tr>\n      <th>2021-05-06</th>\n      <td>60.25</td>\n      <td>61.25</td>\n      <td>60.00</td>\n      <td>61.00</td>\n      <td>23591100</td>\n      <td>0</td>\n      <td>0</td>\n    </tr>\n    <tr>\n      <th>2021-05-07</th>\n      <td>61.50</td>\n      <td>61.50</td>\n      <td>60.75</td>\n      <td>61.50</td>\n      <td>12930900</td>\n      <td>0</td>\n      <td>0</td>\n    </tr>\n    <tr>\n      <th>2021-05-10</th>\n      <td>62.00</td>\n      <td>62.00</td>\n      <td>60.50</td>\n      <td>60.75</td>\n      <td>13405100</td>\n      <td>0</td>\n      <td>0</td>\n    </tr>\n    <tr>\n      <th>2021-05-11</th>\n      <td>60.50</td>\n      <td>61.00</td>\n      <td>60.00</td>\n      <td>60.75</td>\n      <td>11580400</td>\n      <td>0</td>\n      <td>0</td>\n    </tr>\n    <tr>\n      <th>2021-05-12</th>\n      <td>60.50</td>\n      <td>60.50</td>\n      <td>59.50</td>\n      <td>60.00</td>\n      <td>27463300</td>\n      <td>0</td>\n      <td>0</td>\n    </tr>\n    <tr>\n      <th>2021-05-13</th>\n      <td>59.50</td>\n      <td>60.25</td>\n      <td>59.00</td>\n      <td>60.00</td>\n      <td>31135200</td>\n      <td>0</td>\n      <td>0</td>\n    </tr>\n    <tr>\n      <th>2021-05-14</th>\n      <td>59.75</td>\n      <td>60.25</td>\n      <td>59.50</td>\n      <td>59.75</td>\n      <td>23341800</td>\n      <td>0</td>\n      <td>0</td>\n    </tr>\n  </tbody>\n</table>\n</div>",
            "text/plain": "             Open   High    Low  Close    Volume  Dividends  Stock Splits\nDate                                                                     \n2021-04-16  66.00  66.00  65.00  65.50  24094600          0             0\n2021-04-19  65.75  66.75  65.50  66.50  10780600          0             0\n2021-04-20  66.00  66.50  65.25  65.75  13456000          0             0\n2021-04-21  65.25  65.50  64.75  64.75  14733900          0             0\n2021-04-22  64.75  65.00  63.50  63.75  26556100          0             0\n2021-04-23  63.50  63.75  62.75  63.00  18257200          0             0\n2021-04-26  63.00  63.50  62.25  63.50  16157700          0             0\n2021-04-27  62.50  62.50  60.50  60.75  75612800          0             0\n2021-04-28  61.00  62.75  61.00  62.75  32625500          0             0\n2021-04-29  63.00  63.50  62.50  63.00  20294100          0             0\n2021-04-30  62.50  62.75  61.75  62.00  13678600          0             0\n2021-05-05  61.00  61.25  59.75  60.00  59790100          0             0\n2021-05-06  60.25  61.25  60.00  61.00  23591100          0             0\n2021-05-07  61.50  61.50  60.75  61.50  12930900          0             0\n2021-05-10  62.00  62.00  60.50  60.75  13405100          0             0\n2021-05-11  60.50  61.00  60.00  60.75  11580400          0             0\n2021-05-12  60.50  60.50  59.50  60.00  27463300          0             0\n2021-05-13  59.50  60.25  59.00  60.00  31135200          0             0\n2021-05-14  59.75  60.25  59.50  59.75  23341800          0             0"
          },
          "execution_count": 4,
          "metadata": {},
          "output_type": "execute_result"
        }
      ],
      "source": [
        "stock = random.choice(thai_stocks)\n",
        "test = yf.Ticker(stock)\n",
        "hist = test.history(period='1mo', interval='1d')\n",
        "hist"
      ]
    },
    {
      "cell_type": "code",
      "execution_count": 63,
      "metadata": {
        "id": "zhdpRYo0dGRV"
      },
      "outputs": [],
      "source": [
        "def open_diff_nday(hist, threshold, ndays):\r\n",
        "  ''' \r\n",
        "    Calculate if open price in next N days increase or decrese more than\r\n",
        "    threshold or not. \r\n",
        "    Return \r\n",
        "      1 if open price is more than threshold \r\n",
        "      -1 if open price is less than threshold \r\n",
        "      0 otherwise\r\n",
        "  '''\r\n",
        "  features = []\r\n",
        "  price = hist['Open'].to_numpy()\r\n",
        "  for index, x in enumerate(price[:-ndays]):\r\n",
        "    # print(f'{index} days -> {x} -> {([price[index+i+1] for i in range(5)])}')\r\n",
        "    diff = [price[index+i+1] for i in range(ndays)]\r\n",
        "    diff = np.array(diff, dtype=np.float32)\r\n",
        "    diff = (diff - x) * (100 / x) \r\n",
        "    score = diff[diff > threshold].size - diff[diff < -threshold].size\r\n",
        "    if score > 0:\r\n",
        "      features.append(1)\r\n",
        "    elif score < 0:\r\n",
        "      features.append(-1)\r\n",
        "    else:\r\n",
        "      features.append(0)\r\n",
        "  \r\n",
        "  features = np.array(features, dtype=np.int8)\r\n",
        "  return features"
      ]
    },
    {
      "cell_type": "code",
      "execution_count": 66,
      "metadata": {
        "colab": {
          "base_uri": "https://localhost:8080/"
        },
        "id": "7QVbAl-zd_xc",
        "outputId": "4c243150-dd3f-4809-d852-ad9641f2990b"
      },
      "outputs": [
        {
          "data": {
            "text/plain": [
              "array([-1, -1, -1, -1,  0,  1,  1,  0,  1,  1,  1,  1,  1,  0, -1,  0,  0],\n",
              "      dtype=int8)"
            ]
          },
          "execution_count": 66,
          "metadata": {
            "tags": []
          },
          "output_type": "execute_result"
        }
      ],
      "source": [
        "open_diff_nday(hist, threshold=5, ndays=5)"
      ]
    }
  ]
}