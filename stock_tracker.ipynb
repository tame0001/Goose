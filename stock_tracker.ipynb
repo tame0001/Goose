{
  "nbformat": 4,
  "nbformat_minor": 0,
  "metadata": {
    "colab": {
      "name": "stock_tracker.ipynb",
      "provenance": [],
      "collapsed_sections": []
    },
    "kernelspec": {
      "name": "python3",
      "display_name": "Python 3"
    }
  },
  "cells": [
    {
      "cell_type": "code",
      "metadata": {
        "id": "4JDkXxY2Tnwt"
      },
      "source": [
        "import numpy as np\r\n",
        "import pandas as pd\r\n",
        "import cv2 as cv\r\n",
        "import matplotlib.pyplot as plt\r\n",
        "from pathlib import Path\r\n",
        "import re\r\n",
        "from datetime import datetime\r\n",
        "import json\r\n",
        "import random"
      ],
      "execution_count": 1,
      "outputs": []
    },
    {
      "cell_type": "code",
      "metadata": {
        "colab": {
          "base_uri": "https://localhost:8080/"
        },
        "id": "m3qJYg-sUYeL",
        "outputId": "0ad28df5-2848-45fb-9d7b-eb474c51187d"
      },
      "source": [
        "!pip install settrade==0.3.5"
      ],
      "execution_count": null,
      "outputs": [
        {
          "output_type": "stream",
          "text": [
            "Collecting settrade==0.3.5\n",
            "\u001b[?25l  Downloading https://files.pythonhosted.org/packages/42/48/654f3e1bdb788fcac4ca0aaf7519f951b67a775ec50a88a4b58a0250897e/settrade-0.3.5.tar.gz (98.9MB)\n",
            "\u001b[K     |████████████████████████████████| 98.9MB 90kB/s \n",
            "\u001b[?25hRequirement already satisfied: numpy in /usr/local/lib/python3.6/dist-packages (from settrade==0.3.5) (1.19.4)\n",
            "Building wheels for collected packages: settrade\n",
            "  Building wheel for settrade (setup.py) ... \u001b[?25l\u001b[?25hdone\n",
            "  Created wheel for settrade: filename=settrade-0.3.5-cp36-none-any.whl size=6974778 sha256=a2dcfe91a5015dd5e78980a93eb6db099e4ae56839d77671de640e0d34caaa3e\n",
            "  Stored in directory: /root/.cache/pip/wheels/37/cd/cc/9ceb60e2786f99bcb9537975c954b2b4bee02148bd346f52fa\n",
            "Successfully built settrade\n",
            "Installing collected packages: settrade\n",
            "Successfully installed settrade-0.3.5\n"
          ],
          "name": "stdout"
        }
      ]
    },
    {
      "cell_type": "code",
      "metadata": {
        "id": "8gpZbVK7UwQk"
      },
      "source": [
        "from settrade.openapi import Investor"
      ],
      "execution_count": null,
      "outputs": []
    },
    {
      "cell_type": "code",
      "metadata": {
        "colab": {
          "base_uri": "https://localhost:8080/",
          "height": 425
        },
        "id": "r5hmH8kvVuxO",
        "outputId": "f08e3803-d137-4f81-9bb8-4b0661dca033"
      },
      "source": [
        "investor = Investor(\r\n",
        "    app_id=\"ck3pUNvInIG3Q0HF\",                                 \r\n",
        "    app_secret=\"APY0jKCaHbPVsjOPEUqPI+4kJujbQ2U3prh4BChTLC27\", \r\n",
        "    broker_id=\"041\",                                           \r\n",
        "    app_code=\"ALGO\",\r\n",
        "    is_auto_queue = False)"
      ],
      "execution_count": null,
      "outputs": [
        {
          "output_type": "error",
          "ename": "Exception",
          "evalue": "ignored",
          "traceback": [
            "\u001b[0;31m---------------------------------------------------------------------------\u001b[0m",
            "\u001b[0;31mRuntimeError\u001b[0m                              Traceback (most recent call last)",
            "\u001b[0;32m/usr/local/lib/python3.6/dist-packages/settrade/openapi/user/investor.py\u001b[0m in \u001b[0;36m__init__\u001b[0;34m(self, app_id, app_secret, app_code, broker_id, is_auto_queue)\u001b[0m\n\u001b[1;32m     13\u001b[0m         \u001b[0;32mtry\u001b[0m\u001b[0;34m:\u001b[0m\u001b[0;34m\u001b[0m\u001b[0;34m\u001b[0m\u001b[0m\n\u001b[0;32m---> 14\u001b[0;31m             \u001b[0msuper\u001b[0m\u001b[0;34m(\u001b[0m\u001b[0;34m)\u001b[0m\u001b[0;34m.\u001b[0m\u001b[0m__init__\u001b[0m\u001b[0;34m(\u001b[0m\u001b[0mapp_id\u001b[0m\u001b[0;34m,\u001b[0m \u001b[0mapp_secret\u001b[0m\u001b[0;34m,\u001b[0m \u001b[0mapp_code\u001b[0m\u001b[0;34m,\u001b[0m \u001b[0mbroker_id\u001b[0m\u001b[0;34m,\u001b[0m \u001b[0mis_auto_queue\u001b[0m\u001b[0;34m)\u001b[0m\u001b[0;34m\u001b[0m\u001b[0;34m\u001b[0m\u001b[0m\n\u001b[0m\u001b[1;32m     15\u001b[0m             \u001b[0mself\u001b[0m\u001b[0;34m.\u001b[0m\u001b[0m_logger\u001b[0m\u001b[0;34m.\u001b[0m\u001b[0mremove_expired_log\u001b[0m\u001b[0;34m(\u001b[0m\u001b[0;34m)\u001b[0m\u001b[0;34m\u001b[0m\u001b[0;34m\u001b[0m\u001b[0m\n",
            "\u001b[0;32m/usr/local/lib/python3.6/dist-packages/settrade/openapi/user/user.py\u001b[0m in \u001b[0;36m__init__\u001b[0;34m(self, app_id, app_secret, app_code, broker_id, is_auto_queue)\u001b[0m\n\u001b[1;32m      6\u001b[0m     \u001b[0;32mdef\u001b[0m \u001b[0m__init__\u001b[0m\u001b[0;34m(\u001b[0m\u001b[0mself\u001b[0m\u001b[0;34m,\u001b[0m \u001b[0mapp_id\u001b[0m\u001b[0;34m,\u001b[0m \u001b[0mapp_secret\u001b[0m\u001b[0;34m,\u001b[0m \u001b[0mapp_code\u001b[0m\u001b[0;34m,\u001b[0m \u001b[0mbroker_id\u001b[0m\u001b[0;34m,\u001b[0m \u001b[0mis_auto_queue\u001b[0m\u001b[0;34m=\u001b[0m\u001b[0;32mFalse\u001b[0m\u001b[0;34m)\u001b[0m\u001b[0;34m:\u001b[0m\u001b[0;34m\u001b[0m\u001b[0;34m\u001b[0m\u001b[0m\n\u001b[0;32m----> 7\u001b[0;31m         \u001b[0mself\u001b[0m\u001b[0;34m.\u001b[0m\u001b[0m_context\u001b[0m \u001b[0;34m=\u001b[0m \u001b[0msoa\u001b[0m\u001b[0;34m.\u001b[0m\u001b[0mlogin\u001b[0m\u001b[0;34m(\u001b[0m\u001b[0mapp_id\u001b[0m\u001b[0;34m,\u001b[0m \u001b[0mapp_secret\u001b[0m\u001b[0;34m,\u001b[0m \u001b[0mapp_code\u001b[0m\u001b[0;34m,\u001b[0m \u001b[0mbroker_id\u001b[0m\u001b[0;34m,\u001b[0m \u001b[0mis_auto_queue\u001b[0m\u001b[0;34m)\u001b[0m\u001b[0;34m\u001b[0m\u001b[0;34m\u001b[0m\u001b[0m\n\u001b[0m\u001b[1;32m      8\u001b[0m \u001b[0;34m\u001b[0m\u001b[0m\n",
            "\u001b[0;31mRuntimeError\u001b[0m: {\"code\":\"OA-404\",\"message\":\"BrokerApp not found BrokerId[041] AppCode[ALGO]\"}",
            "\nDuring handling of the above exception, another exception occurred:\n",
            "\u001b[0;31mException\u001b[0m                                 Traceback (most recent call last)",
            "\u001b[0;32m<ipython-input-7-595e63e9dbd0>\u001b[0m in \u001b[0;36m<module>\u001b[0;34m()\u001b[0m\n\u001b[1;32m      4\u001b[0m     \u001b[0mbroker_id\u001b[0m\u001b[0;34m=\u001b[0m\u001b[0;34m\"041\"\u001b[0m\u001b[0;34m,\u001b[0m\u001b[0;34m\u001b[0m\u001b[0;34m\u001b[0m\u001b[0m\n\u001b[1;32m      5\u001b[0m     \u001b[0mapp_code\u001b[0m\u001b[0;34m=\u001b[0m\u001b[0;34m\"ALGO\"\u001b[0m\u001b[0;34m,\u001b[0m\u001b[0;34m\u001b[0m\u001b[0;34m\u001b[0m\u001b[0m\n\u001b[0;32m----> 6\u001b[0;31m     is_auto_queue = False)\n\u001b[0m",
            "\u001b[0;32m/usr/local/lib/python3.6/dist-packages/settrade/openapi/user/investor.py\u001b[0m in \u001b[0;36m__init__\u001b[0;34m(self, app_id, app_secret, app_code, broker_id, is_auto_queue)\u001b[0m\n\u001b[1;32m     17\u001b[0m         \u001b[0;32mexcept\u001b[0m \u001b[0mException\u001b[0m \u001b[0;32mas\u001b[0m \u001b[0me\u001b[0m\u001b[0;34m:\u001b[0m\u001b[0;34m\u001b[0m\u001b[0;34m\u001b[0m\u001b[0m\n\u001b[1;32m     18\u001b[0m             \u001b[0mself\u001b[0m\u001b[0;34m.\u001b[0m\u001b[0m_logger\u001b[0m\u001b[0;34m.\u001b[0m\u001b[0mwrite\u001b[0m\u001b[0;34m(\u001b[0m\u001b[0mstart\u001b[0m\u001b[0;34m,\u001b[0m \u001b[0;34m\"PYTHON_EXCEPTION\"\u001b[0m\u001b[0;34m,\u001b[0m \u001b[0;34m\"Login_Investor\"\u001b[0m\u001b[0;34m,\u001b[0m \u001b[0me\u001b[0m\u001b[0;34m)\u001b[0m\u001b[0;34m\u001b[0m\u001b[0;34m\u001b[0m\u001b[0m\n\u001b[0;32m---> 19\u001b[0;31m             \u001b[0;32mraise\u001b[0m \u001b[0mException\u001b[0m\u001b[0;34m(\u001b[0m\u001b[0me\u001b[0m\u001b[0;34m)\u001b[0m\u001b[0;34m\u001b[0m\u001b[0;34m\u001b[0m\u001b[0m\n\u001b[0m\u001b[1;32m     20\u001b[0m \u001b[0;34m\u001b[0m\u001b[0m\n\u001b[1;32m     21\u001b[0m     \u001b[0;32mdef\u001b[0m \u001b[0mDerivatives\u001b[0m\u001b[0;34m(\u001b[0m\u001b[0mself\u001b[0m\u001b[0;34m,\u001b[0m \u001b[0maccount_no\u001b[0m\u001b[0;34m)\u001b[0m\u001b[0;34m:\u001b[0m\u001b[0;34m\u001b[0m\u001b[0;34m\u001b[0m\u001b[0m\n",
            "\u001b[0;31mException\u001b[0m: {\"code\":\"OA-404\",\"message\":\"BrokerApp not found BrokerId[041] AppCode[ALGO]\"}"
          ]
        }
      ]
    },
    {
      "cell_type": "code",
      "metadata": {
        "colab": {
          "base_uri": "https://localhost:8080/"
        },
        "id": "QJ0aQIXRWjf2",
        "outputId": "506ed341-2fff-4daa-aa5b-a543f1eedd31"
      },
      "source": [
        "!pip install googlefinance"
      ],
      "execution_count": null,
      "outputs": [
        {
          "output_type": "stream",
          "text": [
            "Collecting googlefinance\n",
            "  Downloading https://files.pythonhosted.org/packages/c5/e4/e1775ade2f0eee53a0ea9f347399c06f36ff4a165f3d44ca0a66ed23e395/googlefinance-0.7.tar.gz\n",
            "Building wheels for collected packages: googlefinance\n",
            "  Building wheel for googlefinance (setup.py) ... \u001b[?25l\u001b[?25hdone\n",
            "  Created wheel for googlefinance: filename=googlefinance-0.7-cp36-none-any.whl size=2587 sha256=67dc7b42bd95f974f9e186ebf1bc4b51c007bc68a0ce3d7fffb675a91a7660e7\n",
            "  Stored in directory: /root/.cache/pip/wheels/49/77/e7/78049cad250e494f200858583731a155dc89bc6e098d0b97ee\n",
            "Successfully built googlefinance\n",
            "Installing collected packages: googlefinance\n",
            "Successfully installed googlefinance-0.7\n"
          ],
          "name": "stdout"
        }
      ]
    },
    {
      "cell_type": "code",
      "metadata": {
        "colab": {
          "base_uri": "https://localhost:8080/",
          "height": 323
        },
        "id": "bIZc9lNOXHUb",
        "outputId": "a8372faf-0948-493e-be16-26860e9240b1"
      },
      "source": [
        "from googlefinance import getQuotes\r\n",
        "json.dumps(getQuotes('AAPL'), indent=2)"
      ],
      "execution_count": null,
      "outputs": [
        {
          "output_type": "error",
          "ename": "HTTPError",
          "evalue": "ignored",
          "traceback": [
            "\u001b[0;31m---------------------------------------------------------------------------\u001b[0m",
            "\u001b[0;31mHTTPError\u001b[0m                                 Traceback (most recent call last)",
            "\u001b[0;32m<ipython-input-20-9f681050ce9c>\u001b[0m in \u001b[0;36m<module>\u001b[0;34m()\u001b[0m\n\u001b[1;32m      1\u001b[0m \u001b[0;32mfrom\u001b[0m \u001b[0mgooglefinance\u001b[0m \u001b[0;32mimport\u001b[0m \u001b[0mgetQuotes\u001b[0m\u001b[0;34m\u001b[0m\u001b[0;34m\u001b[0m\u001b[0m\n\u001b[0;32m----> 2\u001b[0;31m \u001b[0mjson\u001b[0m\u001b[0;34m.\u001b[0m\u001b[0mdumps\u001b[0m\u001b[0;34m(\u001b[0m\u001b[0mgetQuotes\u001b[0m\u001b[0;34m(\u001b[0m\u001b[0;34m'AAPL'\u001b[0m\u001b[0;34m)\u001b[0m\u001b[0;34m,\u001b[0m \u001b[0mindent\u001b[0m\u001b[0;34m=\u001b[0m\u001b[0;36m2\u001b[0m\u001b[0;34m)\u001b[0m\u001b[0;34m\u001b[0m\u001b[0;34m\u001b[0m\u001b[0m\n\u001b[0m",
            "\u001b[0;32m/usr/local/lib/python3.6/dist-packages/googlefinance/__init__.py\u001b[0m in \u001b[0;36mgetQuotes\u001b[0;34m(symbols)\u001b[0m\n\u001b[1;32m     68\u001b[0m     \u001b[0;32mif\u001b[0m \u001b[0mtype\u001b[0m\u001b[0;34m(\u001b[0m\u001b[0msymbols\u001b[0m\u001b[0;34m)\u001b[0m \u001b[0;34m==\u001b[0m \u001b[0mtype\u001b[0m\u001b[0;34m(\u001b[0m\u001b[0;34m'str'\u001b[0m\u001b[0;34m)\u001b[0m\u001b[0;34m:\u001b[0m\u001b[0;34m\u001b[0m\u001b[0;34m\u001b[0m\u001b[0m\n\u001b[1;32m     69\u001b[0m         \u001b[0msymbols\u001b[0m \u001b[0;34m=\u001b[0m \u001b[0;34m[\u001b[0m\u001b[0msymbols\u001b[0m\u001b[0;34m]\u001b[0m\u001b[0;34m\u001b[0m\u001b[0;34m\u001b[0m\u001b[0m\n\u001b[0;32m---> 70\u001b[0;31m     \u001b[0mcontent\u001b[0m \u001b[0;34m=\u001b[0m \u001b[0mjson\u001b[0m\u001b[0;34m.\u001b[0m\u001b[0mloads\u001b[0m\u001b[0;34m(\u001b[0m\u001b[0mrequest\u001b[0m\u001b[0;34m(\u001b[0m\u001b[0msymbols\u001b[0m\u001b[0;34m)\u001b[0m\u001b[0;34m)\u001b[0m\u001b[0;34m\u001b[0m\u001b[0;34m\u001b[0m\u001b[0m\n\u001b[0m\u001b[1;32m     71\u001b[0m     \u001b[0;32mreturn\u001b[0m \u001b[0mreplaceKeys\u001b[0m\u001b[0;34m(\u001b[0m\u001b[0mcontent\u001b[0m\u001b[0;34m)\u001b[0m\u001b[0;34m;\u001b[0m\u001b[0;34m\u001b[0m\u001b[0;34m\u001b[0m\u001b[0m\n\u001b[1;32m     72\u001b[0m \u001b[0;34m\u001b[0m\u001b[0m\n",
            "\u001b[0;32m/usr/local/lib/python3.6/dist-packages/googlefinance/__init__.py\u001b[0m in \u001b[0;36mrequest\u001b[0;34m(symbols)\u001b[0m\n\u001b[1;32m     31\u001b[0m     \u001b[0murl\u001b[0m \u001b[0;34m=\u001b[0m \u001b[0mbuildUrl\u001b[0m\u001b[0;34m(\u001b[0m\u001b[0msymbols\u001b[0m\u001b[0;34m)\u001b[0m\u001b[0;34m\u001b[0m\u001b[0;34m\u001b[0m\u001b[0m\n\u001b[1;32m     32\u001b[0m     \u001b[0mreq\u001b[0m \u001b[0;34m=\u001b[0m \u001b[0mRequest\u001b[0m\u001b[0;34m(\u001b[0m\u001b[0murl\u001b[0m\u001b[0;34m)\u001b[0m\u001b[0;34m\u001b[0m\u001b[0;34m\u001b[0m\u001b[0m\n\u001b[0;32m---> 33\u001b[0;31m     \u001b[0mresp\u001b[0m \u001b[0;34m=\u001b[0m \u001b[0murlopen\u001b[0m\u001b[0;34m(\u001b[0m\u001b[0mreq\u001b[0m\u001b[0;34m)\u001b[0m\u001b[0;34m\u001b[0m\u001b[0;34m\u001b[0m\u001b[0m\n\u001b[0m\u001b[1;32m     34\u001b[0m     \u001b[0;31m# remove special symbols such as the pound symbol\u001b[0m\u001b[0;34m\u001b[0m\u001b[0;34m\u001b[0m\u001b[0;34m\u001b[0m\u001b[0m\n\u001b[1;32m     35\u001b[0m     \u001b[0mcontent\u001b[0m \u001b[0;34m=\u001b[0m \u001b[0mresp\u001b[0m\u001b[0;34m.\u001b[0m\u001b[0mread\u001b[0m\u001b[0;34m(\u001b[0m\u001b[0;34m)\u001b[0m\u001b[0;34m.\u001b[0m\u001b[0mdecode\u001b[0m\u001b[0;34m(\u001b[0m\u001b[0;34m'ascii'\u001b[0m\u001b[0;34m,\u001b[0m \u001b[0;34m'ignore'\u001b[0m\u001b[0;34m)\u001b[0m\u001b[0;34m.\u001b[0m\u001b[0mstrip\u001b[0m\u001b[0;34m(\u001b[0m\u001b[0;34m)\u001b[0m\u001b[0;34m\u001b[0m\u001b[0;34m\u001b[0m\u001b[0m\n",
            "\u001b[0;32m/usr/lib/python3.6/urllib/request.py\u001b[0m in \u001b[0;36murlopen\u001b[0;34m(url, data, timeout, cafile, capath, cadefault, context)\u001b[0m\n\u001b[1;32m    221\u001b[0m     \u001b[0;32melse\u001b[0m\u001b[0;34m:\u001b[0m\u001b[0;34m\u001b[0m\u001b[0;34m\u001b[0m\u001b[0m\n\u001b[1;32m    222\u001b[0m         \u001b[0mopener\u001b[0m \u001b[0;34m=\u001b[0m \u001b[0m_opener\u001b[0m\u001b[0;34m\u001b[0m\u001b[0;34m\u001b[0m\u001b[0m\n\u001b[0;32m--> 223\u001b[0;31m     \u001b[0;32mreturn\u001b[0m \u001b[0mopener\u001b[0m\u001b[0;34m.\u001b[0m\u001b[0mopen\u001b[0m\u001b[0;34m(\u001b[0m\u001b[0murl\u001b[0m\u001b[0;34m,\u001b[0m \u001b[0mdata\u001b[0m\u001b[0;34m,\u001b[0m \u001b[0mtimeout\u001b[0m\u001b[0;34m)\u001b[0m\u001b[0;34m\u001b[0m\u001b[0;34m\u001b[0m\u001b[0m\n\u001b[0m\u001b[1;32m    224\u001b[0m \u001b[0;34m\u001b[0m\u001b[0m\n\u001b[1;32m    225\u001b[0m \u001b[0;32mdef\u001b[0m \u001b[0minstall_opener\u001b[0m\u001b[0;34m(\u001b[0m\u001b[0mopener\u001b[0m\u001b[0;34m)\u001b[0m\u001b[0;34m:\u001b[0m\u001b[0;34m\u001b[0m\u001b[0;34m\u001b[0m\u001b[0m\n",
            "\u001b[0;32m/usr/lib/python3.6/urllib/request.py\u001b[0m in \u001b[0;36mopen\u001b[0;34m(self, fullurl, data, timeout)\u001b[0m\n\u001b[1;32m    530\u001b[0m         \u001b[0;32mfor\u001b[0m \u001b[0mprocessor\u001b[0m \u001b[0;32min\u001b[0m \u001b[0mself\u001b[0m\u001b[0;34m.\u001b[0m\u001b[0mprocess_response\u001b[0m\u001b[0;34m.\u001b[0m\u001b[0mget\u001b[0m\u001b[0;34m(\u001b[0m\u001b[0mprotocol\u001b[0m\u001b[0;34m,\u001b[0m \u001b[0;34m[\u001b[0m\u001b[0;34m]\u001b[0m\u001b[0;34m)\u001b[0m\u001b[0;34m:\u001b[0m\u001b[0;34m\u001b[0m\u001b[0;34m\u001b[0m\u001b[0m\n\u001b[1;32m    531\u001b[0m             \u001b[0mmeth\u001b[0m \u001b[0;34m=\u001b[0m \u001b[0mgetattr\u001b[0m\u001b[0;34m(\u001b[0m\u001b[0mprocessor\u001b[0m\u001b[0;34m,\u001b[0m \u001b[0mmeth_name\u001b[0m\u001b[0;34m)\u001b[0m\u001b[0;34m\u001b[0m\u001b[0;34m\u001b[0m\u001b[0m\n\u001b[0;32m--> 532\u001b[0;31m             \u001b[0mresponse\u001b[0m \u001b[0;34m=\u001b[0m \u001b[0mmeth\u001b[0m\u001b[0;34m(\u001b[0m\u001b[0mreq\u001b[0m\u001b[0;34m,\u001b[0m \u001b[0mresponse\u001b[0m\u001b[0;34m)\u001b[0m\u001b[0;34m\u001b[0m\u001b[0;34m\u001b[0m\u001b[0m\n\u001b[0m\u001b[1;32m    533\u001b[0m \u001b[0;34m\u001b[0m\u001b[0m\n\u001b[1;32m    534\u001b[0m         \u001b[0;32mreturn\u001b[0m \u001b[0mresponse\u001b[0m\u001b[0;34m\u001b[0m\u001b[0;34m\u001b[0m\u001b[0m\n",
            "\u001b[0;32m/usr/lib/python3.6/urllib/request.py\u001b[0m in \u001b[0;36mhttp_response\u001b[0;34m(self, request, response)\u001b[0m\n\u001b[1;32m    640\u001b[0m         \u001b[0;32mif\u001b[0m \u001b[0;32mnot\u001b[0m \u001b[0;34m(\u001b[0m\u001b[0;36m200\u001b[0m \u001b[0;34m<=\u001b[0m \u001b[0mcode\u001b[0m \u001b[0;34m<\u001b[0m \u001b[0;36m300\u001b[0m\u001b[0;34m)\u001b[0m\u001b[0;34m:\u001b[0m\u001b[0;34m\u001b[0m\u001b[0;34m\u001b[0m\u001b[0m\n\u001b[1;32m    641\u001b[0m             response = self.parent.error(\n\u001b[0;32m--> 642\u001b[0;31m                 'http', request, response, code, msg, hdrs)\n\u001b[0m\u001b[1;32m    643\u001b[0m \u001b[0;34m\u001b[0m\u001b[0m\n\u001b[1;32m    644\u001b[0m         \u001b[0;32mreturn\u001b[0m \u001b[0mresponse\u001b[0m\u001b[0;34m\u001b[0m\u001b[0;34m\u001b[0m\u001b[0m\n",
            "\u001b[0;32m/usr/lib/python3.6/urllib/request.py\u001b[0m in \u001b[0;36merror\u001b[0;34m(self, proto, *args)\u001b[0m\n\u001b[1;32m    568\u001b[0m         \u001b[0;32mif\u001b[0m \u001b[0mhttp_err\u001b[0m\u001b[0;34m:\u001b[0m\u001b[0;34m\u001b[0m\u001b[0;34m\u001b[0m\u001b[0m\n\u001b[1;32m    569\u001b[0m             \u001b[0margs\u001b[0m \u001b[0;34m=\u001b[0m \u001b[0;34m(\u001b[0m\u001b[0mdict\u001b[0m\u001b[0;34m,\u001b[0m \u001b[0;34m'default'\u001b[0m\u001b[0;34m,\u001b[0m \u001b[0;34m'http_error_default'\u001b[0m\u001b[0;34m)\u001b[0m \u001b[0;34m+\u001b[0m \u001b[0morig_args\u001b[0m\u001b[0;34m\u001b[0m\u001b[0;34m\u001b[0m\u001b[0m\n\u001b[0;32m--> 570\u001b[0;31m             \u001b[0;32mreturn\u001b[0m \u001b[0mself\u001b[0m\u001b[0;34m.\u001b[0m\u001b[0m_call_chain\u001b[0m\u001b[0;34m(\u001b[0m\u001b[0;34m*\u001b[0m\u001b[0margs\u001b[0m\u001b[0;34m)\u001b[0m\u001b[0;34m\u001b[0m\u001b[0;34m\u001b[0m\u001b[0m\n\u001b[0m\u001b[1;32m    571\u001b[0m \u001b[0;34m\u001b[0m\u001b[0m\n\u001b[1;32m    572\u001b[0m \u001b[0;31m# XXX probably also want an abstract factory that knows when it makes\u001b[0m\u001b[0;34m\u001b[0m\u001b[0;34m\u001b[0m\u001b[0;34m\u001b[0m\u001b[0m\n",
            "\u001b[0;32m/usr/lib/python3.6/urllib/request.py\u001b[0m in \u001b[0;36m_call_chain\u001b[0;34m(self, chain, kind, meth_name, *args)\u001b[0m\n\u001b[1;32m    502\u001b[0m         \u001b[0;32mfor\u001b[0m \u001b[0mhandler\u001b[0m \u001b[0;32min\u001b[0m \u001b[0mhandlers\u001b[0m\u001b[0;34m:\u001b[0m\u001b[0;34m\u001b[0m\u001b[0;34m\u001b[0m\u001b[0m\n\u001b[1;32m    503\u001b[0m             \u001b[0mfunc\u001b[0m \u001b[0;34m=\u001b[0m \u001b[0mgetattr\u001b[0m\u001b[0;34m(\u001b[0m\u001b[0mhandler\u001b[0m\u001b[0;34m,\u001b[0m \u001b[0mmeth_name\u001b[0m\u001b[0;34m)\u001b[0m\u001b[0;34m\u001b[0m\u001b[0;34m\u001b[0m\u001b[0m\n\u001b[0;32m--> 504\u001b[0;31m             \u001b[0mresult\u001b[0m \u001b[0;34m=\u001b[0m \u001b[0mfunc\u001b[0m\u001b[0;34m(\u001b[0m\u001b[0;34m*\u001b[0m\u001b[0margs\u001b[0m\u001b[0;34m)\u001b[0m\u001b[0;34m\u001b[0m\u001b[0;34m\u001b[0m\u001b[0m\n\u001b[0m\u001b[1;32m    505\u001b[0m             \u001b[0;32mif\u001b[0m \u001b[0mresult\u001b[0m \u001b[0;32mis\u001b[0m \u001b[0;32mnot\u001b[0m \u001b[0;32mNone\u001b[0m\u001b[0;34m:\u001b[0m\u001b[0;34m\u001b[0m\u001b[0;34m\u001b[0m\u001b[0m\n\u001b[1;32m    506\u001b[0m                 \u001b[0;32mreturn\u001b[0m \u001b[0mresult\u001b[0m\u001b[0;34m\u001b[0m\u001b[0;34m\u001b[0m\u001b[0m\n",
            "\u001b[0;32m/usr/lib/python3.6/urllib/request.py\u001b[0m in \u001b[0;36mhttp_error_default\u001b[0;34m(self, req, fp, code, msg, hdrs)\u001b[0m\n\u001b[1;32m    648\u001b[0m \u001b[0;32mclass\u001b[0m \u001b[0mHTTPDefaultErrorHandler\u001b[0m\u001b[0;34m(\u001b[0m\u001b[0mBaseHandler\u001b[0m\u001b[0;34m)\u001b[0m\u001b[0;34m:\u001b[0m\u001b[0;34m\u001b[0m\u001b[0;34m\u001b[0m\u001b[0m\n\u001b[1;32m    649\u001b[0m     \u001b[0;32mdef\u001b[0m \u001b[0mhttp_error_default\u001b[0m\u001b[0;34m(\u001b[0m\u001b[0mself\u001b[0m\u001b[0;34m,\u001b[0m \u001b[0mreq\u001b[0m\u001b[0;34m,\u001b[0m \u001b[0mfp\u001b[0m\u001b[0;34m,\u001b[0m \u001b[0mcode\u001b[0m\u001b[0;34m,\u001b[0m \u001b[0mmsg\u001b[0m\u001b[0;34m,\u001b[0m \u001b[0mhdrs\u001b[0m\u001b[0;34m)\u001b[0m\u001b[0;34m:\u001b[0m\u001b[0;34m\u001b[0m\u001b[0;34m\u001b[0m\u001b[0m\n\u001b[0;32m--> 650\u001b[0;31m         \u001b[0;32mraise\u001b[0m \u001b[0mHTTPError\u001b[0m\u001b[0;34m(\u001b[0m\u001b[0mreq\u001b[0m\u001b[0;34m.\u001b[0m\u001b[0mfull_url\u001b[0m\u001b[0;34m,\u001b[0m \u001b[0mcode\u001b[0m\u001b[0;34m,\u001b[0m \u001b[0mmsg\u001b[0m\u001b[0;34m,\u001b[0m \u001b[0mhdrs\u001b[0m\u001b[0;34m,\u001b[0m \u001b[0mfp\u001b[0m\u001b[0;34m)\u001b[0m\u001b[0;34m\u001b[0m\u001b[0;34m\u001b[0m\u001b[0m\n\u001b[0m\u001b[1;32m    651\u001b[0m \u001b[0;34m\u001b[0m\u001b[0m\n\u001b[1;32m    652\u001b[0m \u001b[0;32mclass\u001b[0m \u001b[0mHTTPRedirectHandler\u001b[0m\u001b[0;34m(\u001b[0m\u001b[0mBaseHandler\u001b[0m\u001b[0;34m)\u001b[0m\u001b[0;34m:\u001b[0m\u001b[0;34m\u001b[0m\u001b[0;34m\u001b[0m\u001b[0m\n",
            "\u001b[0;31mHTTPError\u001b[0m: HTTP Error 403: Forbidden"
          ]
        }
      ]
    },
    {
      "cell_type": "code",
      "metadata": {
        "id": "tFY_oeTQXgJb",
        "colab": {
          "base_uri": "https://localhost:8080/"
        },
        "outputId": "86ce9600-b65a-40ed-b0c3-81e50ffe4fb9"
      },
      "source": [
        "!pip install yfinance\r\n",
        "import yfinance as yf"
      ],
      "execution_count": 2,
      "outputs": [
        {
          "output_type": "stream",
          "text": [
            "Collecting yfinance\n",
            "  Downloading https://files.pythonhosted.org/packages/7a/e8/b9d7104d3a4bf39924799067592d9e59119fcfc900a425a12e80a3123ec8/yfinance-0.1.55.tar.gz\n",
            "Requirement already satisfied: pandas>=0.24 in /usr/local/lib/python3.6/dist-packages (from yfinance) (1.1.5)\n",
            "Requirement already satisfied: numpy>=1.15 in /usr/local/lib/python3.6/dist-packages (from yfinance) (1.19.5)\n",
            "Requirement already satisfied: requests>=2.20 in /usr/local/lib/python3.6/dist-packages (from yfinance) (2.23.0)\n",
            "Requirement already satisfied: multitasking>=0.0.7 in /usr/local/lib/python3.6/dist-packages (from yfinance) (0.0.9)\n",
            "Collecting lxml>=4.5.1\n",
            "\u001b[?25l  Downloading https://files.pythonhosted.org/packages/bd/78/56a7c88a57d0d14945472535d0df9fb4bbad7d34ede658ec7961635c790e/lxml-4.6.2-cp36-cp36m-manylinux1_x86_64.whl (5.5MB)\n",
            "\u001b[K     |████████████████████████████████| 5.5MB 6.3MB/s \n",
            "\u001b[?25hRequirement already satisfied: pytz>=2017.2 in /usr/local/lib/python3.6/dist-packages (from pandas>=0.24->yfinance) (2018.9)\n",
            "Requirement already satisfied: python-dateutil>=2.7.3 in /usr/local/lib/python3.6/dist-packages (from pandas>=0.24->yfinance) (2.8.1)\n",
            "Requirement already satisfied: chardet<4,>=3.0.2 in /usr/local/lib/python3.6/dist-packages (from requests>=2.20->yfinance) (3.0.4)\n",
            "Requirement already satisfied: certifi>=2017.4.17 in /usr/local/lib/python3.6/dist-packages (from requests>=2.20->yfinance) (2020.12.5)\n",
            "Requirement already satisfied: idna<3,>=2.5 in /usr/local/lib/python3.6/dist-packages (from requests>=2.20->yfinance) (2.10)\n",
            "Requirement already satisfied: urllib3!=1.25.0,!=1.25.1,<1.26,>=1.21.1 in /usr/local/lib/python3.6/dist-packages (from requests>=2.20->yfinance) (1.24.3)\n",
            "Requirement already satisfied: six>=1.5 in /usr/local/lib/python3.6/dist-packages (from python-dateutil>=2.7.3->pandas>=0.24->yfinance) (1.15.0)\n",
            "Building wheels for collected packages: yfinance\n",
            "  Building wheel for yfinance (setup.py) ... \u001b[?25l\u001b[?25hdone\n",
            "  Created wheel for yfinance: filename=yfinance-0.1.55-py2.py3-none-any.whl size=22616 sha256=8798aca8b3d0d876c94b594ee5854a97375a6c5ea457bdaa4512dd06f59a896c\n",
            "  Stored in directory: /root/.cache/pip/wheels/04/98/cc/2702a4242d60bdc14f48b4557c427ded1fe92aedf257d4565c\n",
            "Successfully built yfinance\n",
            "Installing collected packages: lxml, yfinance\n",
            "  Found existing installation: lxml 4.2.6\n",
            "    Uninstalling lxml-4.2.6:\n",
            "      Successfully uninstalled lxml-4.2.6\n",
            "Successfully installed lxml-4.6.2 yfinance-0.1.55\n"
          ],
          "name": "stdout"
        }
      ]
    },
    {
      "cell_type": "code",
      "metadata": {
        "id": "CpXpa2L6dIXo"
      },
      "source": [
        "thai_stocks = ['AOT.BK', 'CPF.BK', 'KTC.BK', 'SCB.BK' 'UTP.BK']\r\n",
        "us_stock = ['MANU', 'TSLA']"
      ],
      "execution_count": 3,
      "outputs": []
    },
    {
      "cell_type": "code",
      "metadata": {
        "colab": {
          "base_uri": "https://localhost:8080/",
          "height": 762
        },
        "id": "YWDPilEyXi95",
        "outputId": "aebfe83b-d9d7-4ed7-dbef-29848c99c87f"
      },
      "source": [
        "stock = random.choice(thai_stocks)\r\n",
        "test = yf.Ticker(stock)\r\n",
        "hist = test.history(period='1mo', interval='1d')\r\n",
        "hist"
      ],
      "execution_count": 16,
      "outputs": [
        {
          "output_type": "execute_result",
          "data": {
            "text/html": [
              "<div>\n",
              "<style scoped>\n",
              "    .dataframe tbody tr th:only-of-type {\n",
              "        vertical-align: middle;\n",
              "    }\n",
              "\n",
              "    .dataframe tbody tr th {\n",
              "        vertical-align: top;\n",
              "    }\n",
              "\n",
              "    .dataframe thead th {\n",
              "        text-align: right;\n",
              "    }\n",
              "</style>\n",
              "<table border=\"1\" class=\"dataframe\">\n",
              "  <thead>\n",
              "    <tr style=\"text-align: right;\">\n",
              "      <th></th>\n",
              "      <th>Open</th>\n",
              "      <th>High</th>\n",
              "      <th>Low</th>\n",
              "      <th>Close</th>\n",
              "      <th>Volume</th>\n",
              "      <th>Dividends</th>\n",
              "      <th>Stock Splits</th>\n",
              "    </tr>\n",
              "    <tr>\n",
              "      <th>Date</th>\n",
              "      <th></th>\n",
              "      <th></th>\n",
              "      <th></th>\n",
              "      <th></th>\n",
              "      <th></th>\n",
              "      <th></th>\n",
              "      <th></th>\n",
              "    </tr>\n",
              "  </thead>\n",
              "  <tbody>\n",
              "    <tr>\n",
              "      <th>2020-12-15</th>\n",
              "      <td>28.00</td>\n",
              "      <td>28.00</td>\n",
              "      <td>27.50</td>\n",
              "      <td>28.00</td>\n",
              "      <td>48720700</td>\n",
              "      <td>0</td>\n",
              "      <td>0</td>\n",
              "    </tr>\n",
              "    <tr>\n",
              "      <th>2020-12-16</th>\n",
              "      <td>28.00</td>\n",
              "      <td>28.25</td>\n",
              "      <td>27.50</td>\n",
              "      <td>27.50</td>\n",
              "      <td>38853500</td>\n",
              "      <td>0</td>\n",
              "      <td>0</td>\n",
              "    </tr>\n",
              "    <tr>\n",
              "      <th>2020-12-17</th>\n",
              "      <td>27.50</td>\n",
              "      <td>27.75</td>\n",
              "      <td>27.25</td>\n",
              "      <td>27.50</td>\n",
              "      <td>49328700</td>\n",
              "      <td>0</td>\n",
              "      <td>0</td>\n",
              "    </tr>\n",
              "    <tr>\n",
              "      <th>2020-12-18</th>\n",
              "      <td>27.25</td>\n",
              "      <td>27.75</td>\n",
              "      <td>26.75</td>\n",
              "      <td>27.50</td>\n",
              "      <td>94842100</td>\n",
              "      <td>0</td>\n",
              "      <td>0</td>\n",
              "    </tr>\n",
              "    <tr>\n",
              "      <th>2020-12-21</th>\n",
              "      <td>26.25</td>\n",
              "      <td>26.75</td>\n",
              "      <td>25.75</td>\n",
              "      <td>25.75</td>\n",
              "      <td>117478300</td>\n",
              "      <td>0</td>\n",
              "      <td>0</td>\n",
              "    </tr>\n",
              "    <tr>\n",
              "      <th>2020-12-22</th>\n",
              "      <td>25.75</td>\n",
              "      <td>26.25</td>\n",
              "      <td>25.50</td>\n",
              "      <td>26.00</td>\n",
              "      <td>68769400</td>\n",
              "      <td>0</td>\n",
              "      <td>0</td>\n",
              "    </tr>\n",
              "    <tr>\n",
              "      <th>2020-12-23</th>\n",
              "      <td>25.75</td>\n",
              "      <td>27.25</td>\n",
              "      <td>25.75</td>\n",
              "      <td>26.75</td>\n",
              "      <td>118189800</td>\n",
              "      <td>0</td>\n",
              "      <td>0</td>\n",
              "    </tr>\n",
              "    <tr>\n",
              "      <th>2020-12-24</th>\n",
              "      <td>27.00</td>\n",
              "      <td>27.25</td>\n",
              "      <td>26.25</td>\n",
              "      <td>27.00</td>\n",
              "      <td>62114900</td>\n",
              "      <td>0</td>\n",
              "      <td>0</td>\n",
              "    </tr>\n",
              "    <tr>\n",
              "      <th>2020-12-25</th>\n",
              "      <td>27.00</td>\n",
              "      <td>27.25</td>\n",
              "      <td>27.00</td>\n",
              "      <td>27.00</td>\n",
              "      <td>16561500</td>\n",
              "      <td>0</td>\n",
              "      <td>0</td>\n",
              "    </tr>\n",
              "    <tr>\n",
              "      <th>2020-12-28</th>\n",
              "      <td>27.25</td>\n",
              "      <td>27.25</td>\n",
              "      <td>26.25</td>\n",
              "      <td>26.50</td>\n",
              "      <td>41059500</td>\n",
              "      <td>0</td>\n",
              "      <td>0</td>\n",
              "    </tr>\n",
              "    <tr>\n",
              "      <th>2020-12-29</th>\n",
              "      <td>26.75</td>\n",
              "      <td>27.00</td>\n",
              "      <td>26.50</td>\n",
              "      <td>27.00</td>\n",
              "      <td>28465400</td>\n",
              "      <td>0</td>\n",
              "      <td>0</td>\n",
              "    </tr>\n",
              "    <tr>\n",
              "      <th>2020-12-30</th>\n",
              "      <td>27.25</td>\n",
              "      <td>27.25</td>\n",
              "      <td>26.75</td>\n",
              "      <td>26.75</td>\n",
              "      <td>29173900</td>\n",
              "      <td>0</td>\n",
              "      <td>0</td>\n",
              "    </tr>\n",
              "    <tr>\n",
              "      <th>2021-01-04</th>\n",
              "      <td>26.50</td>\n",
              "      <td>28.50</td>\n",
              "      <td>26.25</td>\n",
              "      <td>28.50</td>\n",
              "      <td>106384500</td>\n",
              "      <td>0</td>\n",
              "      <td>0</td>\n",
              "    </tr>\n",
              "    <tr>\n",
              "      <th>2021-01-05</th>\n",
              "      <td>28.75</td>\n",
              "      <td>29.50</td>\n",
              "      <td>28.50</td>\n",
              "      <td>29.25</td>\n",
              "      <td>89036000</td>\n",
              "      <td>0</td>\n",
              "      <td>0</td>\n",
              "    </tr>\n",
              "    <tr>\n",
              "      <th>2021-01-06</th>\n",
              "      <td>29.50</td>\n",
              "      <td>29.50</td>\n",
              "      <td>28.50</td>\n",
              "      <td>28.50</td>\n",
              "      <td>61649700</td>\n",
              "      <td>0</td>\n",
              "      <td>0</td>\n",
              "    </tr>\n",
              "    <tr>\n",
              "      <th>2021-01-07</th>\n",
              "      <td>29.00</td>\n",
              "      <td>29.00</td>\n",
              "      <td>28.00</td>\n",
              "      <td>28.25</td>\n",
              "      <td>55606800</td>\n",
              "      <td>0</td>\n",
              "      <td>0</td>\n",
              "    </tr>\n",
              "    <tr>\n",
              "      <th>2021-01-08</th>\n",
              "      <td>28.50</td>\n",
              "      <td>28.75</td>\n",
              "      <td>27.75</td>\n",
              "      <td>28.00</td>\n",
              "      <td>61768000</td>\n",
              "      <td>0</td>\n",
              "      <td>0</td>\n",
              "    </tr>\n",
              "    <tr>\n",
              "      <th>2021-01-11</th>\n",
              "      <td>28.25</td>\n",
              "      <td>28.50</td>\n",
              "      <td>28.00</td>\n",
              "      <td>28.00</td>\n",
              "      <td>30312100</td>\n",
              "      <td>0</td>\n",
              "      <td>0</td>\n",
              "    </tr>\n",
              "    <tr>\n",
              "      <th>2021-01-12</th>\n",
              "      <td>28.00</td>\n",
              "      <td>29.00</td>\n",
              "      <td>28.00</td>\n",
              "      <td>28.50</td>\n",
              "      <td>59284200</td>\n",
              "      <td>0</td>\n",
              "      <td>0</td>\n",
              "    </tr>\n",
              "    <tr>\n",
              "      <th>2021-01-13</th>\n",
              "      <td>28.75</td>\n",
              "      <td>29.00</td>\n",
              "      <td>28.25</td>\n",
              "      <td>28.50</td>\n",
              "      <td>45502800</td>\n",
              "      <td>0</td>\n",
              "      <td>0</td>\n",
              "    </tr>\n",
              "    <tr>\n",
              "      <th>2021-01-14</th>\n",
              "      <td>28.50</td>\n",
              "      <td>28.75</td>\n",
              "      <td>28.25</td>\n",
              "      <td>28.50</td>\n",
              "      <td>20263900</td>\n",
              "      <td>0</td>\n",
              "      <td>0</td>\n",
              "    </tr>\n",
              "    <tr>\n",
              "      <th>2021-01-15</th>\n",
              "      <td>28.50</td>\n",
              "      <td>29.00</td>\n",
              "      <td>28.25</td>\n",
              "      <td>28.50</td>\n",
              "      <td>41538100</td>\n",
              "      <td>0</td>\n",
              "      <td>0</td>\n",
              "    </tr>\n",
              "  </tbody>\n",
              "</table>\n",
              "</div>"
            ],
            "text/plain": [
              "             Open   High    Low  Close     Volume  Dividends  Stock Splits\n",
              "Date                                                                      \n",
              "2020-12-15  28.00  28.00  27.50  28.00   48720700          0             0\n",
              "2020-12-16  28.00  28.25  27.50  27.50   38853500          0             0\n",
              "2020-12-17  27.50  27.75  27.25  27.50   49328700          0             0\n",
              "2020-12-18  27.25  27.75  26.75  27.50   94842100          0             0\n",
              "2020-12-21  26.25  26.75  25.75  25.75  117478300          0             0\n",
              "2020-12-22  25.75  26.25  25.50  26.00   68769400          0             0\n",
              "2020-12-23  25.75  27.25  25.75  26.75  118189800          0             0\n",
              "2020-12-24  27.00  27.25  26.25  27.00   62114900          0             0\n",
              "2020-12-25  27.00  27.25  27.00  27.00   16561500          0             0\n",
              "2020-12-28  27.25  27.25  26.25  26.50   41059500          0             0\n",
              "2020-12-29  26.75  27.00  26.50  27.00   28465400          0             0\n",
              "2020-12-30  27.25  27.25  26.75  26.75   29173900          0             0\n",
              "2021-01-04  26.50  28.50  26.25  28.50  106384500          0             0\n",
              "2021-01-05  28.75  29.50  28.50  29.25   89036000          0             0\n",
              "2021-01-06  29.50  29.50  28.50  28.50   61649700          0             0\n",
              "2021-01-07  29.00  29.00  28.00  28.25   55606800          0             0\n",
              "2021-01-08  28.50  28.75  27.75  28.00   61768000          0             0\n",
              "2021-01-11  28.25  28.50  28.00  28.00   30312100          0             0\n",
              "2021-01-12  28.00  29.00  28.00  28.50   59284200          0             0\n",
              "2021-01-13  28.75  29.00  28.25  28.50   45502800          0             0\n",
              "2021-01-14  28.50  28.75  28.25  28.50   20263900          0             0\n",
              "2021-01-15  28.50  29.00  28.25  28.50   41538100          0             0"
            ]
          },
          "metadata": {
            "tags": []
          },
          "execution_count": 16
        }
      ]
    },
    {
      "cell_type": "code",
      "metadata": {
        "id": "zhdpRYo0dGRV"
      },
      "source": [
        "def open_diff_nday(hist, threshold, ndays):\r\n",
        "  ''' \r\n",
        "    Calculate if open price in next N days increase or decrese more than\r\n",
        "    threshold or not. \r\n",
        "    Return \r\n",
        "      1 if open price is more than threshold \r\n",
        "      -1 if open price is less than threshold \r\n",
        "      0 otherwise\r\n",
        "  '''\r\n",
        "  features = []\r\n",
        "  price = hist['Open'].to_numpy()\r\n",
        "  for index, x in enumerate(price[:-ndays]):\r\n",
        "    # print(f'{index} days -> {x} -> {([price[index+i+1] for i in range(5)])}')\r\n",
        "    diff = [price[index+i+1] for i in range(ndays)]\r\n",
        "    diff = np.array(diff, dtype=np.float32)\r\n",
        "    diff = (diff - x) * (100 / x) \r\n",
        "    score = diff[diff > threshold].size - diff[diff < -threshold].size\r\n",
        "    if score > 0:\r\n",
        "      features.append(1)\r\n",
        "    elif score < 0:\r\n",
        "      features.append(-1)\r\n",
        "    else:\r\n",
        "      features.append(0)\r\n",
        "  \r\n",
        "  features = np.array(features, dtype=np.int8)\r\n",
        "  return features"
      ],
      "execution_count": 63,
      "outputs": []
    },
    {
      "cell_type": "code",
      "metadata": {
        "colab": {
          "base_uri": "https://localhost:8080/"
        },
        "id": "7QVbAl-zd_xc",
        "outputId": "4c243150-dd3f-4809-d852-ad9641f2990b"
      },
      "source": [
        "open_diff_nday(hist, threshold=5, ndays=5)"
      ],
      "execution_count": 66,
      "outputs": [
        {
          "output_type": "execute_result",
          "data": {
            "text/plain": [
              "array([-1, -1, -1, -1,  0,  1,  1,  0,  1,  1,  1,  1,  1,  0, -1,  0,  0],\n",
              "      dtype=int8)"
            ]
          },
          "metadata": {
            "tags": []
          },
          "execution_count": 66
        }
      ]
    }
  ]
}