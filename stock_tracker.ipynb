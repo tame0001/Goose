{
  "nbformat": 4,
  "nbformat_minor": 0,
  "metadata": {
    "colab": {
      "name": "stock_tracker.ipynb",
      "provenance": [],
      "collapsed_sections": []
    },
    "kernelspec": {
      "name": "python3",
      "display_name": "Python 3.7.7 64-bit"
    },
    "interpreter": {
      "hash": "9ee059044bba769b8c16b8bddd58edbe67a4cfcce1ca4def7ca7e097de2dc1b9"
    }
  },
  "cells": [
    {
      "cell_type": "code",
      "metadata": {
        "id": "4JDkXxY2Tnwt"
      },
      "source": [
        "import numpy as np\n",
        "import pandas as pd\n",
        "import matplotlib.pyplot as plt\n",
        "from pathlib import Path\n",
        "from datetime import datetime\n",
        "import json\n",
        "import random"
      ],
      "execution_count": 5,
      "outputs": []
    },
    {
      "cell_type": "code",
      "metadata": {
        "id": "tFY_oeTQXgJb",
        "colab": {
          "base_uri": "https://localhost:8080/"
        },
        "outputId": "86ce9600-b65a-40ed-b0c3-81e50ffe4fb9"
      },
      "source": [
        "import yfinance as yf"
      ],
      "execution_count": 8,
      "outputs": []
    },
    {
      "cell_type": "code",
      "metadata": {
        "id": "CpXpa2L6dIXo"
      },
      "source": [
        "thai_stocks = ['AOT.BK', 'CPF.BK', 'KTC.BK', 'SCB.BK' 'UTP.BK']\n",
        "us_stock = ['MANU', 'TSLA']"
      ],
      "execution_count": 9,
      "outputs": []
    },
    {
      "cell_type": "code",
      "metadata": {
        "colab": {
          "base_uri": "https://localhost:8080/",
          "height": 762
        },
        "id": "YWDPilEyXi95",
        "outputId": "aebfe83b-d9d7-4ed7-dbef-29848c99c87f"
      },
      "source": [
        "stock = random.choice(thai_stocks)\n",
        "test = yf.Ticker(stock)\n",
        "hist = test.history(period='1mo', interval='1d')\n",
        "hist"
      ],
      "execution_count": 11,
      "outputs": [
        {
          "output_type": "execute_result",
          "data": {
            "text/plain": [
              "             Open   High    Low  Close    Volume  Dividends  Stock Splits\n",
              "Date                                                                     \n",
              "2021-05-25  61.25  61.75  60.75  61.00  17715000          0             0\n",
              "2021-05-27  61.25  63.00  61.00  63.00  66153400          0             0\n",
              "2021-05-28  63.00  63.50  62.25  62.25  26031200          0             0\n",
              "2021-05-31  62.25  63.00  62.00  63.00  12385900          0             0\n",
              "2021-06-01  63.25  65.00  62.50  64.75  36781300          0             0\n",
              "2021-06-02  65.25  65.25  64.00  64.50  19827900          0             0\n",
              "2021-06-04  64.75  64.75  64.00  64.00  12678800          0             0\n",
              "2021-06-07  64.50  65.00  64.25  64.50  11967800          0             0\n",
              "2021-06-08  64.50  64.75  63.50  64.75  17415200          0             0\n",
              "2021-06-09  65.00  66.25  64.50  64.75  31284100          0             0\n",
              "2021-06-10  65.50  66.00  64.75  65.00  36784900          0             0\n",
              "2021-06-11  65.50  68.75  65.25  68.50  91203900          0             0\n",
              "2021-06-14  68.75  68.75  66.75  67.25  32550200          0             0\n",
              "2021-06-15  67.00  68.00  66.75  67.50  14451800          0             0\n",
              "2021-06-16  67.50  67.50  66.75  67.25  11388900          0             0\n",
              "2021-06-17  67.50  68.25  67.25  67.50  22965100          0             0\n",
              "2021-06-18  67.75  67.75  66.00  66.00  36698700          0             0\n",
              "2021-06-21  65.75  66.00  64.75  65.75  34072200          0             0\n",
              "2021-06-22  66.00  66.50  65.50  66.00  29049600          0             0\n",
              "2021-06-23  66.25  66.50  65.50  65.75  13794000          0             0\n",
              "2021-06-24  65.25  65.50  63.00  64.00  45120300          0             0\n",
              "2021-06-25  64.00  64.50  63.25  63.50  16152200          0             0"
            ],
            "text/html": "<div>\n<style scoped>\n    .dataframe tbody tr th:only-of-type {\n        vertical-align: middle;\n    }\n\n    .dataframe tbody tr th {\n        vertical-align: top;\n    }\n\n    .dataframe thead th {\n        text-align: right;\n    }\n</style>\n<table border=\"1\" class=\"dataframe\">\n  <thead>\n    <tr style=\"text-align: right;\">\n      <th></th>\n      <th>Open</th>\n      <th>High</th>\n      <th>Low</th>\n      <th>Close</th>\n      <th>Volume</th>\n      <th>Dividends</th>\n      <th>Stock Splits</th>\n    </tr>\n    <tr>\n      <th>Date</th>\n      <th></th>\n      <th></th>\n      <th></th>\n      <th></th>\n      <th></th>\n      <th></th>\n      <th></th>\n    </tr>\n  </thead>\n  <tbody>\n    <tr>\n      <th>2021-05-25</th>\n      <td>61.25</td>\n      <td>61.75</td>\n      <td>60.75</td>\n      <td>61.00</td>\n      <td>17715000</td>\n      <td>0</td>\n      <td>0</td>\n    </tr>\n    <tr>\n      <th>2021-05-27</th>\n      <td>61.25</td>\n      <td>63.00</td>\n      <td>61.00</td>\n      <td>63.00</td>\n      <td>66153400</td>\n      <td>0</td>\n      <td>0</td>\n    </tr>\n    <tr>\n      <th>2021-05-28</th>\n      <td>63.00</td>\n      <td>63.50</td>\n      <td>62.25</td>\n      <td>62.25</td>\n      <td>26031200</td>\n      <td>0</td>\n      <td>0</td>\n    </tr>\n    <tr>\n      <th>2021-05-31</th>\n      <td>62.25</td>\n      <td>63.00</td>\n      <td>62.00</td>\n      <td>63.00</td>\n      <td>12385900</td>\n      <td>0</td>\n      <td>0</td>\n    </tr>\n    <tr>\n      <th>2021-06-01</th>\n      <td>63.25</td>\n      <td>65.00</td>\n      <td>62.50</td>\n      <td>64.75</td>\n      <td>36781300</td>\n      <td>0</td>\n      <td>0</td>\n    </tr>\n    <tr>\n      <th>2021-06-02</th>\n      <td>65.25</td>\n      <td>65.25</td>\n      <td>64.00</td>\n      <td>64.50</td>\n      <td>19827900</td>\n      <td>0</td>\n      <td>0</td>\n    </tr>\n    <tr>\n      <th>2021-06-04</th>\n      <td>64.75</td>\n      <td>64.75</td>\n      <td>64.00</td>\n      <td>64.00</td>\n      <td>12678800</td>\n      <td>0</td>\n      <td>0</td>\n    </tr>\n    <tr>\n      <th>2021-06-07</th>\n      <td>64.50</td>\n      <td>65.00</td>\n      <td>64.25</td>\n      <td>64.50</td>\n      <td>11967800</td>\n      <td>0</td>\n      <td>0</td>\n    </tr>\n    <tr>\n      <th>2021-06-08</th>\n      <td>64.50</td>\n      <td>64.75</td>\n      <td>63.50</td>\n      <td>64.75</td>\n      <td>17415200</td>\n      <td>0</td>\n      <td>0</td>\n    </tr>\n    <tr>\n      <th>2021-06-09</th>\n      <td>65.00</td>\n      <td>66.25</td>\n      <td>64.50</td>\n      <td>64.75</td>\n      <td>31284100</td>\n      <td>0</td>\n      <td>0</td>\n    </tr>\n    <tr>\n      <th>2021-06-10</th>\n      <td>65.50</td>\n      <td>66.00</td>\n      <td>64.75</td>\n      <td>65.00</td>\n      <td>36784900</td>\n      <td>0</td>\n      <td>0</td>\n    </tr>\n    <tr>\n      <th>2021-06-11</th>\n      <td>65.50</td>\n      <td>68.75</td>\n      <td>65.25</td>\n      <td>68.50</td>\n      <td>91203900</td>\n      <td>0</td>\n      <td>0</td>\n    </tr>\n    <tr>\n      <th>2021-06-14</th>\n      <td>68.75</td>\n      <td>68.75</td>\n      <td>66.75</td>\n      <td>67.25</td>\n      <td>32550200</td>\n      <td>0</td>\n      <td>0</td>\n    </tr>\n    <tr>\n      <th>2021-06-15</th>\n      <td>67.00</td>\n      <td>68.00</td>\n      <td>66.75</td>\n      <td>67.50</td>\n      <td>14451800</td>\n      <td>0</td>\n      <td>0</td>\n    </tr>\n    <tr>\n      <th>2021-06-16</th>\n      <td>67.50</td>\n      <td>67.50</td>\n      <td>66.75</td>\n      <td>67.25</td>\n      <td>11388900</td>\n      <td>0</td>\n      <td>0</td>\n    </tr>\n    <tr>\n      <th>2021-06-17</th>\n      <td>67.50</td>\n      <td>68.25</td>\n      <td>67.25</td>\n      <td>67.50</td>\n      <td>22965100</td>\n      <td>0</td>\n      <td>0</td>\n    </tr>\n    <tr>\n      <th>2021-06-18</th>\n      <td>67.75</td>\n      <td>67.75</td>\n      <td>66.00</td>\n      <td>66.00</td>\n      <td>36698700</td>\n      <td>0</td>\n      <td>0</td>\n    </tr>\n    <tr>\n      <th>2021-06-21</th>\n      <td>65.75</td>\n      <td>66.00</td>\n      <td>64.75</td>\n      <td>65.75</td>\n      <td>34072200</td>\n      <td>0</td>\n      <td>0</td>\n    </tr>\n    <tr>\n      <th>2021-06-22</th>\n      <td>66.00</td>\n      <td>66.50</td>\n      <td>65.50</td>\n      <td>66.00</td>\n      <td>29049600</td>\n      <td>0</td>\n      <td>0</td>\n    </tr>\n    <tr>\n      <th>2021-06-23</th>\n      <td>66.25</td>\n      <td>66.50</td>\n      <td>65.50</td>\n      <td>65.75</td>\n      <td>13794000</td>\n      <td>0</td>\n      <td>0</td>\n    </tr>\n    <tr>\n      <th>2021-06-24</th>\n      <td>65.25</td>\n      <td>65.50</td>\n      <td>63.00</td>\n      <td>64.00</td>\n      <td>45120300</td>\n      <td>0</td>\n      <td>0</td>\n    </tr>\n    <tr>\n      <th>2021-06-25</th>\n      <td>64.00</td>\n      <td>64.50</td>\n      <td>63.25</td>\n      <td>63.50</td>\n      <td>16152200</td>\n      <td>0</td>\n      <td>0</td>\n    </tr>\n  </tbody>\n</table>\n</div>"
          },
          "metadata": {},
          "execution_count": 11
        }
      ]
    },
    {
      "cell_type": "code",
      "metadata": {
        "id": "zhdpRYo0dGRV"
      },
      "source": [
        "def open_diff_nday(hist, threshold, ndays):\r\n",
        "  ''' \r\n",
        "    Calculate if open price in next N days increase or decrese more than\r\n",
        "    threshold or not. \r\n",
        "    Return \r\n",
        "      1 if open price is more than threshold \r\n",
        "      -1 if open price is less than threshold \r\n",
        "      0 otherwise\r\n",
        "  '''\r\n",
        "  features = []\r\n",
        "  price = hist['Open'].to_numpy()\r\n",
        "  for index, x in enumerate(price[:-ndays]):\r\n",
        "    # print(f'{index} days -> {x} -> {([price[index+i+1] for i in range(5)])}')\r\n",
        "    diff = [price[index+i+1] for i in range(ndays)]\r\n",
        "    diff = np.array(diff, dtype=np.float32)\r\n",
        "    diff = (diff - x) * (100 / x) \r\n",
        "    score = diff[diff > threshold].size - diff[diff < -threshold].size\r\n",
        "    if score > 0:\r\n",
        "      features.append(1)\r\n",
        "    elif score < 0:\r\n",
        "      features.append(-1)\r\n",
        "    else:\r\n",
        "      features.append(0)\r\n",
        "  \r\n",
        "  features = np.array(features, dtype=np.int8)\r\n",
        "  return features"
      ],
      "execution_count": 63,
      "outputs": []
    },
    {
      "cell_type": "code",
      "metadata": {
        "colab": {
          "base_uri": "https://localhost:8080/"
        },
        "id": "7QVbAl-zd_xc",
        "outputId": "4c243150-dd3f-4809-d852-ad9641f2990b"
      },
      "source": [
        "open_diff_nday(hist, threshold=5, ndays=5)"
      ],
      "execution_count": 66,
      "outputs": [
        {
          "output_type": "execute_result",
          "data": {
            "text/plain": [
              "array([-1, -1, -1, -1,  0,  1,  1,  0,  1,  1,  1,  1,  1,  0, -1,  0,  0],\n",
              "      dtype=int8)"
            ]
          },
          "metadata": {
            "tags": []
          },
          "execution_count": 66
        }
      ]
    }
  ]
}