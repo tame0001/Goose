{
 "metadata": {
  "language_info": {
   "codemirror_mode": {
    "name": "ipython",
    "version": 3
   },
   "file_extension": ".py",
   "mimetype": "text/x-python",
   "name": "python",
   "nbconvert_exporter": "python",
   "pygments_lexer": "ipython3",
   "version": "3.7.6"
  },
  "orig_nbformat": 4,
  "kernelspec": {
   "name": "python3",
   "display_name": "Python 3.7.6 64-bit ('ece595': conda)"
  },
  "interpreter": {
   "hash": "98571c6a3f2160297b26e71be3bfd53947af1dedd6b34906b4bbfac8ec99f64c"
  }
 },
 "nbformat": 4,
 "nbformat_minor": 2,
 "cells": [
  {
   "cell_type": "code",
   "execution_count": null,
   "source": [
    "import yaml\r\n",
    "import requests\r\n",
    "import pandas as pd\r\n",
    "from pathlib import Path\r\n",
    "from dotenv import dotenv_values\r\n",
    "from io import StringIO"
   ],
   "outputs": [],
   "metadata": {}
  },
  {
   "cell_type": "code",
   "execution_count": null,
   "source": [
    "import yfinance as yf"
   ],
   "outputs": [],
   "metadata": {}
  },
  {
   "cell_type": "code",
   "execution_count": null,
   "source": [
    "env_config = dotenv_values()\r\n",
    "dowdload = Path(env_config['download_path'])"
   ],
   "outputs": [],
   "metadata": {}
  },
  {
   "cell_type": "code",
   "execution_count": null,
   "source": [
    "with open('config.yaml', 'r') as f:\r\n",
    "    config = yaml.load(f, Loader=yaml.FullLoader)"
   ],
   "outputs": [],
   "metadata": {}
  },
  {
   "cell_type": "code",
   "execution_count": null,
   "source": [
    "link = config['ARKG']['url']"
   ],
   "outputs": [],
   "metadata": {}
  },
  {
   "cell_type": "code",
   "execution_count": null,
   "source": [
    "headers = config['request_header']"
   ],
   "outputs": [],
   "metadata": {}
  },
  {
   "cell_type": "code",
   "execution_count": null,
   "source": [
    "response = requests.get(link, headers=headers)\r\n",
    "response"
   ],
   "outputs": [],
   "metadata": {}
  },
  {
   "cell_type": "code",
   "execution_count": null,
   "source": [
    "df = pd.read_csv(StringIO(response.content.decode('utf-8')))\r\n",
    "df = df.drop(df.tail(3).index)\r\n",
    "df"
   ],
   "outputs": [],
   "metadata": {}
  },
  {
   "cell_type": "code",
   "execution_count": null,
   "source": [
    "close_prices = []\r\n",
    "for x in df['ticker']:\r\n",
    "    try:\r\n",
    "        close_prices.append(yf.Ticker(x).info['regularMarketPrice'])\r\n",
    "    except Exception as e:\r\n",
    "        print(f'Quote {x} has error => {e}')\r\n",
    "        close_prices.append(0)\r\n",
    "close_prices"
   ],
   "outputs": [],
   "metadata": {}
  }
 ]
}