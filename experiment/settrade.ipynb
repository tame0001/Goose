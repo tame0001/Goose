{
 "nbformat": 4,
 "nbformat_minor": 2,
 "metadata": {
  "language_info": {
   "name": "python",
   "codemirror_mode": {
    "name": "ipython",
    "version": 3
   },
   "version": "3.7.7"
  },
  "orig_nbformat": 2,
  "file_extension": ".py",
  "mimetype": "text/x-python",
  "name": "python",
  "npconvert_exporter": "python",
  "pygments_lexer": "ipython3",
  "version": 3,
  "kernelspec": {
   "name": "python3",
   "display_name": "Python 3.7.7 64-bit"
  },
  "interpreter": {
   "hash": "9ee059044bba769b8c16b8bddd58edbe67a4cfcce1ca4def7ca7e097de2dc1b9"
  }
 },
 "cells": [
  {
   "cell_type": "code",
   "execution_count": 3,
   "metadata": {},
   "outputs": [
    {
     "output_type": "error",
     "ename": "ModuleNotFoundError",
     "evalue": "No module named 'settrade'",
     "traceback": [
      "\u001b[1;31m---------------------------------------------------------------------------\u001b[0m",
      "\u001b[1;31mModuleNotFoundError\u001b[0m                       Traceback (most recent call last)",
      "\u001b[1;32m<ipython-input-3-b6dd31f9d4b5>\u001b[0m in \u001b[0;36m<module>\u001b[1;34m\u001b[0m\n\u001b[1;32m----> 1\u001b[1;33m \u001b[1;32mfrom\u001b[0m \u001b[0msettrade\u001b[0m\u001b[1;33m.\u001b[0m\u001b[0mopenapi\u001b[0m \u001b[1;32mimport\u001b[0m \u001b[0mInvestor\u001b[0m\u001b[1;33m\u001b[0m\u001b[1;33m\u001b[0m\u001b[0m\n\u001b[0m",
      "\u001b[1;31mModuleNotFoundError\u001b[0m: No module named 'settrade'"
     ]
    }
   ],
   "source": [
    "from settrade.openapi import Investor"
   ]
  },
  {
   "cell_type": "code",
   "execution_count": null,
   "metadata": {},
   "outputs": [],
   "source": [
    "investor = Investor(\n",
    "    app_id=\"ck3pUNvInIG3Q0HF\",                                 \n",
    "    app_secret=\"APY0jKCaHbPVsjOPEUqPI+4kJujbQ2U3prh4BChTLC27\", \n",
    "    broker_id=\"041\",                                           \n",
    "    app_code=\"ALGO\",\n",
    "    is_auto_queue = False)"
   ]
  }
 ]
}